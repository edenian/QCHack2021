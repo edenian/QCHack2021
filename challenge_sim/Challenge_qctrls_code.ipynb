{
 "cells": [
  {
   "cell_type": "code",
   "execution_count": 1,
   "id": "christian-registration",
   "metadata": {},
   "outputs": [],
   "source": [
    "\"\"\"\n",
    "created by Arj at 16:28 BST\n",
    "\n",
    "Investigating the challenge notebook and running it's code. \n",
    "\"\"\"\n",
    "\n",
    "import matplotlib.pyplot as plt\n",
    "import numpy as np\n",
    "\n",
    "from qctrlvisualizer import get_qctrl_style, plot_controls\n",
    "from qctrl import Qctrl\n",
    "\n",
    "qctrl = Qctrl()"
   ]
  },
  {
   "cell_type": "code",
   "execution_count": 2,
   "id": "boolean-chaos",
   "metadata": {},
   "outputs": [],
   "source": [
    "def simulate_ideal_qubit(\n",
    "    duration=1, values=np.array([np.pi]), shots=1024, repetitions=1\n",
    "):\n",
    "\n",
    "    b = np.array([[0, 1], [0, 0]])  # Lowering operator\n",
    "    initial_state = np.array([[1], [0]])  # Initial state of qubit in |0>\n",
    "\n",
    "    with qctrl.create_graph() as graph:\n",
    "\n",
    "        # Create time dependent \\Omega(t)\n",
    "        drive = qctrl.operations.pwc_signal(duration=duration, values=values)\n",
    "\n",
    "        # Construct Hamiltonian (\\Omega(t) b + \\Omega^*(t) b^\\dagger)/2\n",
    "        hamiltonian = qctrl.operations.pwc_operator_hermitian_part(\n",
    "            qctrl.operations.pwc_operator(signal=drive, operator=b)\n",
    "        )\n",
    "\n",
    "        # Solve Schrodinger's equation and get total unitary at the end\n",
    "        unitary = qctrl.operations.time_evolution_operators_pwc(\n",
    "            hamiltonian=hamiltonian,\n",
    "            sample_times=np.array([duration]),\n",
    "        )[-1]\n",
    "        unitary.name = \"unitary\"\n",
    "\n",
    "        # Repeat final unitary\n",
    "        repeated_unitary = np.eye(2)\n",
    "        for _ in range(repetitions):\n",
    "            repeated_unitary = repeated_unitary @ unitary\n",
    "        repeated_unitary.name = \"repeated_unitary\"\n",
    "\n",
    "        # Calculate final state.\n",
    "        state = repeated_unitary @ initial_state\n",
    "\n",
    "        # Calculate final populations.\n",
    "        populations = qctrl.operations.abs(state[:, 0]) ** 2\n",
    "        # Normalize populations because of numerical precision\n",
    "        norm = qctrl.operations.sum(populations)\n",
    "        populations = populations / norm\n",
    "        populations.name = \"populations\"\n",
    "\n",
    "    # Evaluate graph.\n",
    "    result = qctrl.functions.calculate_graph(\n",
    "        graph=graph,\n",
    "        output_node_names=[\"unitary\", \"repeated_unitary\", \"populations\"],\n",
    "    )\n",
    "\n",
    "    # Extract outputs.\n",
    "    unitary = result.output[\"unitary\"][\"value\"]\n",
    "    repeated_unitary = result.output[\"repeated_unitary\"][\"value\"]\n",
    "    populations = result.output[\"populations\"][\"value\"]\n",
    "\n",
    "    # Sample projective measurements.\n",
    "    measurements = np.random.choice(2, size=shots, p=populations)\n",
    "\n",
    "    results = {\"unitary\": unitary, \"measurements\": measurements}\n",
    "\n",
    "    return results\n"
   ]
  },
  {
   "cell_type": "code",
   "execution_count": 3,
   "id": "simple-olympus",
   "metadata": {},
   "outputs": [
    {
     "data": {
      "image/png": "[encoded data removed]",
      "text/plain": [
       "<Figure size 504x144 with 1 Axes>"
      ]
     },
     "metadata": {
      "needs_background": "light"
     },
     "output_type": "display_data"
    }
   ],
   "source": [
    "duration = 10\n",
    "values = np.array([-1, 3, 2, 3, -2, -1])\n",
    "\n",
    "\n",
    "def get_pulse_plot_dict(name=\"default\", duration=1, values=np.array([1.0])):\n",
    "    segments = len(values)\n",
    "    segment_durations = duration / segments\n",
    "    pulse_plot_dict = {\n",
    "        name: [{\"duration\": segment_durations, \"value\": v} for v in values]\n",
    "    }\n",
    "    return pulse_plot_dict\n",
    "\n",
    "\n",
    "example_pulse = get_pulse_plot_dict(name=\"$\\Omega$\", duration=duration, values=values)\n",
    "\n",
    "fig = plt.figure()\n",
    "plot_controls(fig, example_pulse, polar=False)\n",
    "plt.show()\n"
   ]
  },
  {
   "cell_type": "code",
   "execution_count": 4,
   "id": "serial-season",
   "metadata": {},
   "outputs": [
    {
     "data": {
      "image/png": "[encoded data removed]",
      "text/plain": [
       "<Figure size 504x432 with 3 Axes>"
      ]
     },
     "metadata": {
      "needs_background": "light"
     },
     "output_type": "display_data"
    }
   ],
   "source": [
    "max_rabi_rate = 20 * 2 * np.pi  # MHz\n",
    "not_duration = np.pi / (max_rabi_rate)  # us\n",
    "not_values = np.array([max_rabi_rate])\n",
    "h_duration = 3 * np.pi / (2 * max_rabi_rate)  # us\n",
    "h_values = np.array([-1j * max_rabi_rate, max_rabi_rate, max_rabi_rate])\n",
    "\n",
    "not_pulse = get_pulse_plot_dict(\n",
    "    name=\"$\\Omega_{NOT}$\", duration=not_duration, values=not_values\n",
    ")\n",
    "h_pulse = get_pulse_plot_dict(name=\"$\\Omega_{H}$\", duration=h_duration, values=h_values)\n",
    "both_pulses = {**not_pulse, **h_pulse}\n",
    "\n",
    "fig = plt.figure()\n",
    "plot_controls(fig, both_pulses, polar=False)\n",
    "plt.show()"
   ]
  },
  {
   "cell_type": "code",
   "execution_count": 5,
   "id": "marked-decrease",
   "metadata": {},
   "outputs": [
    {
     "data": {
      "application/vnd.jupyter.widget-view+json": {
       "model_id": "",
       "version_major": 2,
       "version_minor": 0
      },
      "text/plain": [
       "  0%|          | 0/100 [00:00<?, ?it/s]"
      ]
     },
     "metadata": {},
     "output_type": "display_data"
    },
    {
     "name": "stdout",
     "output_type": "stream",
     "text": [
      "Your task calculate_graph has completed in 3s.\n"
     ]
    },
    {
     "data": {
      "application/vnd.jupyter.widget-view+json": {
       "model_id": "",
       "version_major": 2,
       "version_minor": 0
      },
      "text/plain": [
       "  0%|          | 0/100 [00:00<?, ?it/s]"
      ]
     },
     "metadata": {},
     "output_type": "display_data"
    },
    {
     "name": "stdout",
     "output_type": "stream",
     "text": [
      "Your task calculate_graph has completed in 3s.\n"
     ]
    }
   ],
   "source": [
    "shots = 1024\n",
    "not_results = simulate_ideal_qubit(\n",
    "    duration=not_duration, values=not_values, shots=shots\n",
    ")\n",
    "h_results = simulate_ideal_qubit(duration=h_duration, values=h_values, shots=shots)"
   ]
  },
  {
   "cell_type": "code",
   "execution_count": 6,
   "id": "mexican-cookbook",
   "metadata": {},
   "outputs": [
    {
     "name": "stdout",
     "output_type": "stream",
     "text": [
      "Realised NOT Gate:\n",
      "[[2.83276945e-16+0.j 0.00000000e+00-1.j]\n",
      " [0.00000000e+00-1.j 2.83276945e-16+0.j]]\n",
      "Ideal NOT Gate:\n",
      "[[0 1]\n",
      " [1 0]]\n",
      "NOT Gate Error:4.440892098500626e-16\n",
      "\n",
      "Realised H Gate:\n",
      "[[ 2.22044605e-16-0.70710678j -2.22044605e-16-0.70710678j]\n",
      " [ 2.22044605e-16-0.70710678j  2.22044605e-16+0.70710678j]]\n",
      "Ideal H Gate:\n",
      "[[ 0.70710678  0.70710678]\n",
      " [ 0.70710678 -0.70710678]]\n",
      "H Gate Error:1.1102230246251565e-15\n"
     ]
    }
   ],
   "source": [
    "error_norm = (\n",
    "    lambda operate_a, operator_b: 1\n",
    "    - np.abs(np.trace((operate_a.conj().T @ operator_b)) / 2) ** 2\n",
    ")\n",
    "\n",
    "realised_not_gate = not_results[\"unitary\"]\n",
    "ideal_not_gate = np.array([[0, 1], [1, 0]])\n",
    "not_error = error_norm(realised_not_gate, ideal_not_gate)\n",
    "realised_h_gate = h_results[\"unitary\"]\n",
    "ideal_h_gate = (1 / np.sqrt(2)) * np.array([[1, 1], [1, -1]])\n",
    "h_error = error_norm(realised_h_gate, ideal_h_gate)\n",
    "\n",
    "print(\"Realised NOT Gate:\")\n",
    "print(realised_not_gate)\n",
    "print(\"Ideal NOT Gate:\")\n",
    "print(ideal_not_gate)\n",
    "print(\"NOT Gate Error:\" + str(not_error) + \"\\n\")\n",
    "print(\"Realised H Gate:\")\n",
    "print(realised_h_gate)\n",
    "print(\"Ideal H Gate:\")\n",
    "print(ideal_h_gate)\n",
    "print(\"H Gate Error:\" + str(h_error))\n"
   ]
  },
  {
   "cell_type": "code",
   "execution_count": 7,
   "id": "careful-archive",
   "metadata": {},
   "outputs": [
    {
     "name": "stdout",
     "output_type": "stream",
     "text": [
      "NOT estimated probability of getting 1:1.0\n",
      "NOT estimate standard error:0.0\n",
      "H estimated probability of getting 1:0.4931640625\n",
      "H estimate standard error:0.0156235396179561\n"
     ]
    }
   ],
   "source": [
    "not_measurements = not_results[\"measurements\"]\n",
    "h_measurements = h_results[\"measurements\"]\n",
    "\n",
    "\n",
    "def estimate_probability_of_one(measurements):\n",
    "    size = len(measurements)\n",
    "    probability = np.mean(measurements)\n",
    "    standard_error = np.std(measurements) / np.sqrt(size)\n",
    "    return (probability, standard_error)\n",
    "\n",
    "\n",
    "not_probability, not_standard_error = estimate_probability_of_one(not_measurements)\n",
    "h_probability, h_standard_error = estimate_probability_of_one(h_measurements)\n",
    "\n",
    "print(\"NOT estimated probability of getting 1:\" + str(not_probability))\n",
    "print(\"NOT estimate standard error:\" + str(not_standard_error))\n",
    "print(\"H estimated probability of getting 1:\" + str(h_probability))\n",
    "print(\"H estimate standard error:\" + str(h_standard_error))\n"
   ]
  },
  {
   "cell_type": "code",
   "execution_count": 8,
   "id": "manufactured-replacement",
   "metadata": {},
   "outputs": [],
   "source": [
    "epsilon = 0.003\n",
    "h_duration = (np.pi + epsilon) / (2 * max_rabi_rate)  # us\n",
    "\n",
    "repetitions = np.array([1, 17, 127])\n",
    "repetition_results = []\n"
   ]
  },
  {
   "cell_type": "code",
   "execution_count": 9,
   "id": "lesser-smith",
   "metadata": {},
   "outputs": [
    {
     "data": {
      "application/vnd.jupyter.widget-view+json": {
       "model_id": "",
       "version_major": 2,
       "version_minor": 0
      },
      "text/plain": [
       "  0%|          | 0/100 [00:00<?, ?it/s]"
      ]
     },
     "metadata": {},
     "output_type": "display_data"
    },
    {
     "name": "stdout",
     "output_type": "stream",
     "text": [
      "Your task calculate_graph has completed in 3s.\n"
     ]
    },
    {
     "data": {
      "application/vnd.jupyter.widget-view+json": {
       "model_id": "",
       "version_major": 2,
       "version_minor": 0
      },
      "text/plain": [
       "  0%|          | 0/100 [00:00<?, ?it/s]"
      ]
     },
     "metadata": {},
     "output_type": "display_data"
    },
    {
     "name": "stdout",
     "output_type": "stream",
     "text": [
      "Your task calculate_graph has completed in 3s.\n"
     ]
    },
    {
     "data": {
      "application/vnd.jupyter.widget-view+json": {
       "model_id": "",
       "version_major": 2,
       "version_minor": 0
      },
      "text/plain": [
       "  0%|          | 0/100 [00:00<?, ?it/s]"
      ]
     },
     "metadata": {},
     "output_type": "display_data"
    },
    {
     "name": "stdout",
     "output_type": "stream",
     "text": [
      "Your task calculate_graph has completed in 3s.\n"
     ]
    }
   ],
   "source": [
    "for reps in repetitions:\n",
    "    repetition_results.append(\n",
    "        simulate_ideal_qubit(\n",
    "            duration=h_duration, values=values, shots=shots, repetitions=reps\n",
    "        )\n",
    "    )"
   ]
  },
  {
   "cell_type": "code",
   "execution_count": 10,
   "id": "infinite-mumbai",
   "metadata": {},
   "outputs": [],
   "source": [
    "probability_estimates = np.zeros(3)\n",
    "standard_errors = np.zeros(3)\n",
    "\n",
    "for count, result in enumerate(repetition_results):\n",
    "    probability_estimates[count], standard_errors[count] = estimate_probability_of_one(\n",
    "        result[\"measurements\"]\n",
    "    )\n"
   ]
  },
  {
   "cell_type": "code",
   "execution_count": 11,
   "id": "alert-brand",
   "metadata": {},
   "outputs": [
    {
     "data": {
      "image/png": "[encoded data removed]",
      "text/plain": [
       "<Figure size 432x288 with 1 Axes>"
      ]
     },
     "metadata": {
      "needs_background": "light"
     },
     "output_type": "display_data"
    }
   ],
   "source": [
    "plt.plot(repetitions, probability_estimates, \"s\", color=\"#680CE9\")\n",
    "plt.plot(repetitions, probability_estimates + standard_errors, \"_\", color=\"#680CE9\")\n",
    "plt.plot(repetitions, probability_estimates - standard_errors, \"_\", color=\"#680CE9\")\n",
    "plt.hlines(0.5, 0, 127, linestyle=\":\")\n",
    "plt.xlabel(\"Repetition\")\n",
    "plt.ylabel(\"Probability Estimate\")\n",
    "plt.show()\n"
   ]
  },
  {
   "cell_type": "code",
   "execution_count": 12,
   "id": "younger-brand",
   "metadata": {},
   "outputs": [
    {
     "data": {
      "text/plain": [
       "array([  1,  17, 127])"
      ]
     },
     "execution_count": 12,
     "metadata": {},
     "output_type": "execute_result"
    }
   ],
   "source": [
    "repetitions"
   ]
  },
  {
   "cell_type": "code",
   "execution_count": 13,
   "id": "veterinary-practice",
   "metadata": {},
   "outputs": [
    {
     "data": {
      "text/plain": [
       "array([0.        , 0.00292969, 0.26171875])"
      ]
     },
     "execution_count": 13,
     "metadata": {},
     "output_type": "execute_result"
    }
   ],
   "source": [
    "probability_estimates"
   ]
  },
  {
   "cell_type": "code",
   "execution_count": null,
   "id": "floating-leisure",
   "metadata": {},
   "outputs": [],
   "source": []
  }
 ],
 "metadata": {
  "kernelspec": {
   "display_name": "Python 3",
   "language": "python",
   "name": "python3"
  },
  "language_info": {
   "codemirror_mode": {
    "name": "ipython",
    "version": 3
   },
   "file_extension": ".py",
   "mimetype": "text/x-python",
   "name": "python",
   "nbconvert_exporter": "python",
   "pygments_lexer": "ipython3",
   "version": "3.7.6"
  }
 },
 "nbformat": 4,
 "nbformat_minor": 5
}
