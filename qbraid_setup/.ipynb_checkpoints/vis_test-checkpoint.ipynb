{
 "cells": [
  {
   "cell_type": "code",
   "execution_count": 1,
   "id": "moderate-administration",
   "metadata": {},
   "outputs": [],
   "source": [
    "\"\"\"This notebook is copied from qctrl documentation. It is simply to test the qbraid environment is up \n",
    "and running. Try running the code below and if you have configured the environment and downloaded the right\n",
    "packages it should run smoothly. \n",
    "\"\"\"\n",
    "import matplotlib.pyplot as plt\n",
    "import numpy as np\n",
    "from qctrlvisualizer import get_qctrl_style, plot_controls\n",
    "\n",
    "from qctrl import Qctrl\n",
    "\n",
    "plt.style.use(get_qctrl_style())\n",
    "\n",
    "# Sparse matrix imports\n",
    "from scipy.sparse import coo_matrix\n",
    "\n",
    "# Starting a session with the API\n",
    "qctrl = Qctrl()"
   ]
  },
  {
   "cell_type": "code",
   "execution_count": 2,
   "id": "scenic-courtesy",
   "metadata": {},
   "outputs": [],
   "source": [
    "# Define standard matrices\n",
    "sigma_y = np.array([[0, -1j], [1j, 0]])\n",
    "sigma_z = np.array([[1, 0], [0, -1]])\n",
    "sigma_m = np.array([[0, 1], [0, 0]])\n",
    "\n",
    "# Define physical constants\n",
    "nu = 2 * np.pi * 0.5 * 1e6  # Hz\n",
    "gamma_max = 2 * np.pi * 0.5e6  # Hz\n",
    "alpha_max = 2 * np.pi * 0.5e6  # Hz\n",
    "segment_count = 50\n",
    "duration = 10e-6  # s\n",
    "\n",
    "# Define the data flow graph describing the system\n",
    "with qctrl.create_graph() as graph:\n",
    "\n",
    "    # Create a constant piecewise-constant (PWC) operator representing the\n",
    "    # detuning term\n",
    "    detuning = qctrl.operations.constant_pwc_operator(\n",
    "        duration=duration,\n",
    "        operator=nu * sigma_z / 2,\n",
    "    )\n",
    "\n",
    "    # Create a complex PWC signal, with optimizable modulus and phase,\n",
    "    # representing gamma(t)\n",
    "    gamma = qctrl.operations.complex_pwc_signal(\n",
    "        moduli=qctrl.operations.bounded_optimization_variable(\n",
    "            count=segment_count,\n",
    "            lower_bound=0,\n",
    "            upper_bound=gamma_max,\n",
    "        ),\n",
    "        phases=qctrl.operations.unbounded_optimization_variable(\n",
    "            count=segment_count,\n",
    "            initial_lower_bound=0,\n",
    "            initial_upper_bound=2 * np.pi,\n",
    "        ),\n",
    "        duration=duration,\n",
    "        name=\"gamma\",\n",
    "    )\n",
    "    # Create a PWC operator representing the drive term\n",
    "    drive = qctrl.operations.pwc_operator_hermitian_part(\n",
    "        qctrl.operations.pwc_operator(signal=gamma, operator=sigma_m)\n",
    "    )\n",
    "\n",
    "    # Create a real PWC signal, with optimizable amplitude, representing\n",
    "    # alpha(t)\n",
    "    alpha = qctrl.operations.pwc_signal(\n",
    "        values=qctrl.operations.bounded_optimization_variable(\n",
    "            count=segment_count, lower_bound=-alpha_max, upper_bound=alpha_max\n",
    "        ),\n",
    "        duration=duration,\n",
    "        name=\"alpha\",\n",
    "    )\n",
    "    # Create a PWC operator representing the clock shift term\n",
    "    shift = qctrl.operations.pwc_operator(signal=alpha, operator=sigma_z / 2)\n",
    "\n",
    "    # Create a constant PWC operator representing the dephasing noise\n",
    "    # (note that we scale by 1/duration to ensure consistent units between\n",
    "    # the noise Hamiltonian and the control Hamiltonian)\n",
    "    dephasing = qctrl.operations.constant_pwc_operator(\n",
    "        duration=duration, operator=sigma_z / duration\n",
    "    )\n",
    "\n",
    "    # Create the target operator\n",
    "    target_operator = qctrl.operations.target(operator=sigma_y)\n",
    "\n",
    "    # Create infidelity\n",
    "    infidelity = qctrl.operations.infidelity_pwc(\n",
    "        hamiltonian=qctrl.operations.pwc_sum([detuning, drive, shift]),\n",
    "        noise_operators=[dephasing],\n",
    "        target_operator=target_operator,\n",
    "        name=\"infidelity\",\n",
    "    )"
   ]
  },
  {
   "cell_type": "code",
   "execution_count": 3,
   "id": "nearby-party",
   "metadata": {},
   "outputs": [
    {
     "data": {
      "application/vnd.jupyter.widget-view+json": {
       "model_id": "",
       "version_major": 2,
       "version_minor": 0
      },
      "text/plain": [
       "  0%|          | 0/100 [00:00<?, ?it/s]"
      ]
     },
     "metadata": {},
     "output_type": "display_data"
    },
    {
     "name": "stdout",
     "output_type": "stream",
     "text": [
      "Your task calculate_optimization has completed in 3s.\n"
     ]
    }
   ],
   "source": [
    "optimization_result = qctrl.functions.calculate_optimization(\n",
    "    cost_node_name=\"infidelity\",\n",
    "    output_node_names=[\"alpha\", \"gamma\"],\n",
    "    graph=graph,\n",
    ")\n"
   ]
  },
  {
   "cell_type": "code",
   "execution_count": 4,
   "id": "postal-interface",
   "metadata": {},
   "outputs": [
    {
     "name": "stdout",
     "output_type": "stream",
     "text": [
      "Optimized cost:\t 1.0642054252576058e-13\n"
     ]
    }
   ],
   "source": [
    "print(\"Optimized cost:\\t\", optimization_result.cost)"
   ]
  },
  {
   "cell_type": "code",
   "execution_count": 5,
   "id": "complicated-browser",
   "metadata": {},
   "outputs": [
    {
     "data": {
      "image/png": "[encoded data removed]",
      "text/plain": [
       "<Figure size 504x432 with 3 Axes>"
      ]
     },
     "metadata": {
      "needs_background": "light"
     },
     "output_type": "display_data"
    }
   ],
   "source": [
    "plot_controls(\n",
    "    plt.figure(),\n",
    "    controls={\n",
    "        \"$\\\\alpha$\": optimization_result.output[\"alpha\"],\n",
    "        \"$\\\\gamma$\": optimization_result.output[\"gamma\"],\n",
    "    },\n",
    ")\n",
    "plt.show()"
   ]
  },
  {
   "cell_type": "code",
   "execution_count": null,
   "id": "awful-fever",
   "metadata": {},
   "outputs": [],
   "source": []
  }
 ],
 "metadata": {
  "kernelspec": {
   "display_name": "Python 3",
   "language": "python",
   "name": "python3"
  },
  "language_info": {
   "codemirror_mode": {
    "name": "ipython",
    "version": 3
   },
   "file_extension": ".py",
   "mimetype": "text/x-python",
   "name": "python",
   "nbconvert_exporter": "python",
   "pygments_lexer": "ipython3",
   "version": "3.7.6"
  }
 },
 "nbformat": 4,
 "nbformat_minor": 5
}
