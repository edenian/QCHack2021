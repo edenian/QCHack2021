{
 "cells": [
  {
   "cell_type": "code",
   "execution_count": 1,
   "metadata": {},
   "outputs": [],
   "source": [
    "import matplotlib.pyplot as plt\n",
    "import numpy as np\n",
    "\n",
    "\n",
    "from qctrlvisualizer import get_qctrl_style, plot_controls\n",
    "from qctrl import Qctrl\n",
    "\n",
    "qctrl = Qctrl()"
   ]
  },
  {
   "cell_type": "code",
   "execution_count": 204,
   "metadata": {},
   "outputs": [
    {
     "name": "stderr",
     "output_type": "stream",
     "text": [
      "100%|██████████| 100/100 [00:02<00:00, 39.33it/s]\n"
     ]
    }
   ],
   "source": [
    "# Define standard deviation of the errors in the experimental results.\n",
    "sigma = 0.01\n",
    "\n",
    "# max_rabi_rate = 20 * 2 * np.pi\n",
    "# duration =  (max_rabi_rate) # s\n",
    "# duration = 120 # ns\n",
    "duration = 60 # ns\n",
    "\n",
    "# Define the number of test points obtained per run.\n",
    "test_point_count = 20\n",
    "\n",
    "# Define number of segments in the control.\n",
    "segment_count = 8\n",
    "\n",
    "# Define parameters as a set of controls with piecewise constant segments.\n",
    "parameter_set = (\n",
    "    np.pi\n",
    "    / duration\n",
    "    * (np.linspace(-1, 1, test_point_count)[:, None])\n",
    "    * np.ones((test_point_count, segment_count))\n",
    ")\n",
    "\n",
    "shot_count = 1024\n",
    "\n",
    "controls = []\n",
    "for k in range(len(parameter_set)):\n",
    "    controls.append({\"duration\": duration, \"values\": parameter_set[k]})\n",
    "\n",
    "# Obtain a set of initial experimental results.\n",
    "experiment_results = qctrl.functions.calculate_qchack_measurements(\n",
    "        controls=controls,\n",
    "        shot_count=shot_count,\n",
    "    )"
   ]
  },
  {
   "cell_type": "code",
   "execution_count": 205,
   "metadata": {},
   "outputs": [],
   "source": [
    "def get_infidelities(experiment_results):\n",
    "    measurements = experiment_results.measurements\n",
    "    infidelities = []\n",
    "    for k in range(len(measurements)):\n",
    "#         infidelity = 1.0 - (measurements[k].count(1) / shot_count);\n",
    "        infidelity = abs(measurements[k].count(0) - measurements[k].count(1)) / shot_count\n",
    "        infidelities.append(infidelity)\n",
    "    return infidelities"
   ]
  },
  {
   "cell_type": "code",
   "execution_count": 199,
   "metadata": {},
   "outputs": [
    {
     "data": {
      "text/plain": [
       "[0.923828125,\n",
       " 0.939453125,\n",
       " 0.9580078125,\n",
       " 0.9560546875,\n",
       " 0.96875,\n",
       " 0.9765625,\n",
       " 0.982421875,\n",
       " 0.9853515625,\n",
       " 0.9873046875,\n",
       " 0.986328125,\n",
       " 0.9853515625,\n",
       " 0.990234375,\n",
       " 0.9853515625,\n",
       " 0.9775390625,\n",
       " 0.9755859375,\n",
       " 0.962890625,\n",
       " 0.95703125,\n",
       " 0.9638671875,\n",
       " 0.9375,\n",
       " 0.9462890625]"
      ]
     },
     "execution_count": 199,
     "metadata": {},
     "output_type": "execute_result"
    }
   ],
   "source": [
    "get_infidelities(experiment_results)"
   ]
  },
  {
   "cell_type": "code",
   "execution_count": 206,
   "metadata": {},
   "outputs": [],
   "source": [
    "# Define initialization object for the automated closed-loop optimization.\n",
    "length_scale_bound = qctrl.types.closed_loop_optimization_step.BoxConstraint(\n",
    "    lower_bound=1e-5,\n",
    "    upper_bound=1e5,\n",
    ")\n",
    "bound = qctrl.types.closed_loop_optimization_step.BoxConstraint(\n",
    "    lower_bound=-5 * np.pi / duration,\n",
    "    upper_bound=5 * np.pi / duration,\n",
    ")\n",
    "initializer = qctrl.types.closed_loop_optimization_step.GaussianProcessInitializer(\n",
    "    length_scale_bounds=[length_scale_bound] * segment_count,\n",
    "    bounds=[bound] * segment_count,\n",
    "    rng_seed=0,\n",
    ")\n",
    "\n",
    "# Define state object for the closed-loop optimization.\n",
    "optimizer = qctrl.types.closed_loop_optimization_step.Optimizer(\n",
    "    gaussian_process_initializer=initializer,\n",
    ")"
   ]
  },
  {
   "cell_type": "code",
   "execution_count": 207,
   "metadata": {},
   "outputs": [
    {
     "name": "stdout",
     "output_type": "stream",
     "text": [
      "Best infidelity after 0 BOULDER OPAL optimization steps: 0.8515625\n"
     ]
    },
    {
     "name": "stderr",
     "output_type": "stream",
     "text": [
      "100%|██████████| 100/100 [00:11<00:00,  9.07it/s]\n",
      "100%|██████████| 100/100 [00:02<00:00, 39.55it/s]\n"
     ]
    },
    {
     "name": "stdout",
     "output_type": "stream",
     "text": [
      "Best infidelity after 1 BOULDER OPAL optimization step: 0.654296875\n"
     ]
    },
    {
     "name": "stderr",
     "output_type": "stream",
     "text": [
      "100%|██████████| 100/100 [00:06<00:00, 15.14it/s]\n",
      "100%|██████████| 100/100 [00:02<00:00, 39.41it/s]\n"
     ]
    },
    {
     "name": "stdout",
     "output_type": "stream",
     "text": [
      "Best infidelity after 2 BOULDER OPAL optimization steps: 0.349609375\n"
     ]
    },
    {
     "name": "stderr",
     "output_type": "stream",
     "text": [
      "100%|██████████| 100/100 [00:13<00:00,  7.56it/s]\n",
      "100%|██████████| 100/100 [00:02<00:00, 39.80it/s]\n"
     ]
    },
    {
     "name": "stdout",
     "output_type": "stream",
     "text": [
      "Best infidelity after 3 BOULDER OPAL optimization steps: 0.275390625\n"
     ]
    },
    {
     "name": "stderr",
     "output_type": "stream",
     "text": [
      "100%|██████████| 100/100 [00:13<00:00,  7.56it/s]\n",
      "100%|██████████| 100/100 [00:02<00:00, 39.65it/s]\n"
     ]
    },
    {
     "name": "stdout",
     "output_type": "stream",
     "text": [
      "Infidelity: 0.025390625\n"
     ]
    },
    {
     "data": {
      "image/png": "[encoded data removed]",
      "text/plain": [
       "<Figure size 504x144 with 1 Axes>"
      ]
     },
     "metadata": {
      "needs_background": "light"
     },
     "output_type": "display_data"
    }
   ],
   "source": [
    "c_controls=[]\n",
    "best_cost, best_controls = min(\n",
    "    zip(get_infidelities(experiment_results), parameter_set), key=lambda params: params[0]\n",
    ")\n",
    "optimization_count = 0\n",
    "\n",
    "# Run the optimization loop until the cost (infidelity) is sufficiently small.\n",
    "while best_cost > 3*sigma:\n",
    "    # Print the current best cost.\n",
    "    optimization_steps = (\n",
    "        \"optimization step\" if optimization_count == 1 else \"optimization steps\"\n",
    "    )\n",
    "    print(\n",
    "        f\"Best infidelity after {optimization_count} BOULDER OPAL {optimization_steps}: {best_cost}\"\n",
    "    )\n",
    "\n",
    "    # Organize the experiment results into the proper input format.\n",
    "    results = [\n",
    "        qctrl.types.closed_loop_optimization_step.CostFunctionResult(\n",
    "            parameters=list(parameters),\n",
    "            cost=cost,\n",
    "            cost_uncertainty=sigma,\n",
    "        )\n",
    "        for parameters, cost in zip(parameter_set, get_infidelities(experiment_results))\n",
    "    ]\n",
    "\n",
    "    # Call the automated closed-loop optimizer and obtain the next set of test points.\n",
    "    optimization_result = qctrl.functions.calculate_closed_loop_optimization_step(\n",
    "        optimizer=optimizer,\n",
    "        results=results,\n",
    "        test_point_count=test_point_count,\n",
    "    )\n",
    "    optimization_count += 1\n",
    "\n",
    "    # Organize the data returned by the automated closed-loop optimizer.\n",
    "    parameter_set = np.array(\n",
    "        [test_point.parameters for test_point in optimization_result.test_points]\n",
    "    )\n",
    "    optimizer = qctrl.types.closed_loop_optimization_step.Optimizer(\n",
    "        state=optimization_result.state\n",
    "    )\n",
    "    \n",
    "    controls = []\n",
    "    for k in range(len(parameter_set)):\n",
    "        controls.append({\"duration\": duration, \"values\": parameter_set[k]})\n",
    "\n",
    "    # Obtain experiment results that the automated closed-loop optimizer requested.\n",
    "#     experiment_results = run_experiments(parameter_set)\n",
    "    experiment_results = qctrl.functions.calculate_qchack_measurements(\n",
    "        controls=controls,\n",
    "        shot_count=shot_count,\n",
    "    )\n",
    "    \n",
    "    # Record the best results after this round of experiments.\n",
    "    cost, controls = min(\n",
    "        zip(get_infidelities(experiment_results), parameter_set), key=lambda params: params[0]\n",
    "    )\n",
    "    if cost < best_cost:\n",
    "        best_cost = cost\n",
    "        best_controls = controls\n",
    "    c_controls.append({\"duration\": duration, \"values\": best_controls})\n",
    "\n",
    "# Print final best cost.\n",
    "print(f\"Infidelity: {best_cost}\")\n",
    "\n",
    "# Plot controls that correspond to the best cost.\n",
    "plot_controls(\n",
    "    figure=plt.figure(),\n",
    "    controls={\n",
    "        r\"$\\Omega(t)$\": [\n",
    "            {\"duration\": duration / len(best_controls), \"value\": value}\n",
    "            for value in best_controls\n",
    "        ]\n",
    "    },\n",
    ")\n",
    "\n"
   ]
  },
  {
   "cell_type": "code",
   "execution_count": 196,
   "metadata": {},
   "outputs": [],
   "source": [
    "import jsonpickle.ext.numpy as jsonpickle_numpy\n",
    "jsonpickle_numpy.register_handlers()\n",
    "import jsonpickle\n",
    "import numpy as np"
   ]
  },
  {
   "cell_type": "code",
   "execution_count": 203,
   "metadata": {},
   "outputs": [],
   "source": [
    "x_gate_control = best_controls\n",
    "not_control = {\"duration\": duration, \"value\": x_gate_control}\n",
    "json_not_control = jsonpickle.encode(not_control)\n",
    "with open('not_gate_pulse.json', 'w') as file:\n",
    "    file.write(json_not_control)"
   ]
  },
  {
   "cell_type": "code",
   "execution_count": 209,
   "metadata": {},
   "outputs": [],
   "source": [
    "h_gate_control = best_controls\n",
    "h_control = {\"duration\": duration, \"value\": h_gate_control}\n",
    "json_not_control = jsonpickle.encode(h_control)\n",
    "with open('h_gate_pulse.json', 'w') as file:\n",
    "    file.write(json_not_control)"
   ]
  },
  {
   "cell_type": "code",
   "execution_count": 147,
   "metadata": {},
   "outputs": [
    {
     "name": "stderr",
     "output_type": "stream",
     "text": [
      "100%|██████████| 100/100 [00:02<00:00, 45.04it/s]\n"
     ]
    }
   ],
   "source": [
    "# Obtain the results of the experiment.\n",
    "experiment_results = qctrl.functions.calculate_qchack_measurements(\n",
    "    controls=[{'duration': duration, 'values': h_gate_control}],\n",
    "    shot_count=shot_count,\n",
    ")"
   ]
  },
  {
   "cell_type": "code",
   "execution_count": 148,
   "metadata": {},
   "outputs": [],
   "source": [
    "measurements = experiment_results.measurements\n",
    "# for k, measurement_counts in enumerate(measurements):\n",
    "#     print(f\"control #{k}: {measurement_counts}\")"
   ]
  },
  {
   "cell_type": "code",
   "execution_count": 208,
   "metadata": {},
   "outputs": [
    {
     "name": "stdout",
     "output_type": "stream",
     "text": [
      "control #0: P(|0>) = 0.51, P(|1>) = 0.49, P(|2>) = 0.00\n"
     ]
    }
   ],
   "source": [
    "for k, measurement_counts in enumerate(measurements):\n",
    "    p0 = measurement_counts.count(0) / shot_count\n",
    "    p1 = measurement_counts.count(1) / shot_count\n",
    "    p2 = measurement_counts.count(2) / shot_count\n",
    "    print(f\"control #{k}: P(|0>) = {p0:.2f}, P(|1>) = {p1:.2f}, P(|2>) = {p2:.2f}\")"
   ]
  },
  {
   "cell_type": "code",
   "execution_count": 14,
   "metadata": {},
   "outputs": [
    {
     "data": {
      "application/vnd.jupyter.widget-view+json": {
       "model_id": "",
       "version_major": 2,
       "version_minor": 0
      },
      "text/plain": [
       "  0%|          | 0/100 [00:00<?, ?it/s]"
      ]
     },
     "metadata": {},
     "output_type": "display_data"
    },
    {
     "name": "stdout",
     "output_type": "stream",
     "text": [
      "Your task calculate_qchack_measurements has completed in 3s.\n",
      "With  1 repetitions: P(|0>) = 0.42, P(|1>) = 0.58, P(|2>) = 0.00\n",
      "With  4 repetitions: P(|0>) = 0.57, P(|1>) = 0.43, P(|2>) = 0.00\n",
      "With 16 repetitions: P(|0>) = 0.60, P(|1>) = 0.35, P(|2>) = 0.05\n",
      "With 32 repetitions: P(|0>) = 0.52, P(|1>) = 0.34, P(|2>) = 0.14\n",
      "With 64 repetitions: P(|0>) = 0.63, P(|1>) = 0.37, P(|2>) = 0.00\n"
     ]
    }
   ],
   "source": [
    "repetitions = [1, 4, 16, 32, 64]\n",
    "\n",
    "controls = []\n",
    "# Create a random string of complex numbers for all control,\n",
    "# but set a different repetition_count for each control.\n",
    "real_part = np.random.random(size=[segment_count])\n",
    "imag_part = np.random.random(size=[segment_count])\n",
    "values = 0.5 * (real_part + 1j * imag_part)\n",
    "\n",
    "for repetition_count in repetitions:\n",
    "    controls.append(\n",
    "        {\"duration\": duration, \"values\": values, \"repetition_count\": repetition_count}\n",
    "    )\n",
    "\n",
    "experiment_results = qctrl.functions.calculate_qchack_measurements(\n",
    "    controls=controls,\n",
    "    shot_count=shot_count,\n",
    ")\n",
    "\n",
    "for repetition_count, measurement_counts in zip(\n",
    "    repetitions, experiment_results.measurements\n",
    "):\n",
    "    p0 = measurement_counts.count(0) / shot_count\n",
    "    p1 = measurement_counts.count(1) / shot_count\n",
    "    p2 = measurement_counts.count(2) / shot_count\n",
    "    print(\n",
    "        f\"With {repetition_count:2d} repetitions: P(|0>) = {p0:.2f}, P(|1>) = {p1:.2f}, P(|2>) = {p2:.2f}\"\n",
    "    )"
   ]
  },
  {
   "cell_type": "code",
   "execution_count": null,
   "metadata": {},
   "outputs": [],
   "source": []
  }
 ],
 "metadata": {
  "kernelspec": {
   "display_name": "Python 3",
   "language": "python",
   "name": "python3"
  },
  "language_info": {
   "codemirror_mode": {
    "name": "ipython",
    "version": 3
   },
   "file_extension": ".py",
   "mimetype": "text/x-python",
   "name": "python",
   "nbconvert_exporter": "python",
   "pygments_lexer": "ipython3",
   "version": "3.7.6"
  }
 },
 "nbformat": 4,
 "nbformat_minor": 5
}
