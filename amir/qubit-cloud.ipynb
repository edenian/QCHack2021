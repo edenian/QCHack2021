{
 "cells": [
  {
   "cell_type": "markdown",
   "metadata": {},
   "source": [
    "# Q-CTRL Quantum Coalition Hack (QCHack) 2021 Challenge\n",
    "\n",
    "Full details are here: https://docs.q-ctrl.com/boulder-opal/application-notes/q-ctrl-qchack-challenge.\n",
    "\n",
    "In order to run this notebook locally, you will need to sign up for an account through Q-CTRL and install the necessary libraries."
   ]
  },
  {
   "cell_type": "code",
   "execution_count": 1,
   "metadata": {},
   "outputs": [],
   "source": [
    "import matplotlib.pyplot as plt\n",
    "import numpy as np\n",
    "\n",
    "from qctrlvisualizer import get_qctrl_style, plot_controls\n",
    "from qctrl import Qctrl\n",
    "\n",
    "qctrl = Qctrl()"
   ]
  },
  {
   "cell_type": "code",
   "execution_count": 2,
   "metadata": {},
   "outputs": [],
   "source": [
    "# Define standard deviation of the errors in the experimental results.\n",
    "sigma = 0.01\n",
    "\n",
    "# Shorter duration means faster gate times\n",
    "duration = 60 # ns\n",
    "\n",
    "# Define the number of test points obtained per run.\n",
    "test_point_count = 20\n",
    "\n",
    "# Define number of segments in the control.\n",
    "segment_count = 8\n",
    "\n",
    "shot_count = 1024"
   ]
  },
  {
   "cell_type": "code",
   "execution_count": 3,
   "metadata": {},
   "outputs": [],
   "source": [
    "def obtain_initial_results():\n",
    "    # Define parameters as a set of controls with piecewise constant segments.\n",
    "    parameter_set = (\n",
    "        np.pi\n",
    "        / duration\n",
    "        * (np.linspace(-1, 1, test_point_count)[:, None])\n",
    "        * np.ones((test_point_count, segment_count))\n",
    "    )\n",
    "\n",
    "    controls = []\n",
    "    for k in range(len(parameter_set)):\n",
    "        controls.append({\"duration\": duration, \"values\": parameter_set[k]})\n",
    "\n",
    "    # Obtain a set of initial experimental results.\n",
    "    experiment_results = qctrl.functions.calculate_qchack_measurements(\n",
    "            controls=controls,\n",
    "            shot_count=shot_count,\n",
    "        )\n",
    "    \n",
    "    return (experiment_results, parameter_set)"
   ]
  },
  {
   "cell_type": "code",
   "execution_count": 4,
   "metadata": {},
   "outputs": [],
   "source": [
    "def optimize_gate(experiment_results, parameter_set, cost_function):\n",
    "    # Define initialization object for the automated closed-loop optimization.\n",
    "    length_scale_bound = qctrl.types.closed_loop_optimization_step.BoxConstraint(\n",
    "        lower_bound=1e-5,\n",
    "        upper_bound=1e5,\n",
    "    )\n",
    "    bound = qctrl.types.closed_loop_optimization_step.BoxConstraint(\n",
    "        lower_bound=-5 * np.pi / duration,\n",
    "        upper_bound=5 * np.pi / duration,\n",
    "    )\n",
    "    initializer = qctrl.types.closed_loop_optimization_step.GaussianProcessInitializer(\n",
    "        length_scale_bounds=[length_scale_bound] * segment_count,\n",
    "        bounds=[bound] * segment_count,\n",
    "        rng_seed=0,\n",
    "    )\n",
    "\n",
    "    # Define state object for the closed-loop optimization.\n",
    "    optimizer = qctrl.types.closed_loop_optimization_step.Optimizer(\n",
    "        gaussian_process_initializer=initializer,\n",
    "    )\n",
    "    \n",
    "    best_cost, best_controls = min(\n",
    "        zip(cost_function(experiment_results), parameter_set), key=lambda params: params[0]\n",
    "    )\n",
    "    optimization_count = 0\n",
    "\n",
    "    # Run the optimization loop until the cost (infidelity) is sufficiently small.\n",
    "    while best_cost > 3*sigma:\n",
    "        # Print the current best cost.\n",
    "        optimization_steps = (\n",
    "            \"optimization step\" if optimization_count == 1 else \"optimization steps\"\n",
    "        )\n",
    "        print(\n",
    "            f\"Best infidelity after {optimization_count} BOULDER OPAL {optimization_steps}: {best_cost}\"\n",
    "        )\n",
    "\n",
    "        # Organize the experiment results into the proper input format.\n",
    "        results = [\n",
    "            qctrl.types.closed_loop_optimization_step.CostFunctionResult(\n",
    "                parameters=list(parameters),\n",
    "                cost=cost,\n",
    "                cost_uncertainty=sigma,\n",
    "            )\n",
    "            for parameters, cost in zip(parameter_set, cost_function(experiment_results))\n",
    "        ]\n",
    "\n",
    "        # Call the automated closed-loop optimizer and obtain the next set of test points.\n",
    "        optimization_result = qctrl.functions.calculate_closed_loop_optimization_step(\n",
    "            optimizer=optimizer,\n",
    "            results=results,\n",
    "            test_point_count=test_point_count,\n",
    "        )\n",
    "        optimization_count += 1\n",
    "\n",
    "        # Organize the data returned by the automated closed-loop optimizer.\n",
    "        parameter_set = np.array(\n",
    "            [test_point.parameters for test_point in optimization_result.test_points]\n",
    "        )\n",
    "        optimizer = qctrl.types.closed_loop_optimization_step.Optimizer(\n",
    "            state=optimization_result.state\n",
    "        )\n",
    "\n",
    "        controls = []\n",
    "        for k in range(len(parameter_set)):\n",
    "            controls.append({\"duration\": duration, \"values\": parameter_set[k]})\n",
    "\n",
    "        # Obtain experiment results that the automated closed-loop optimizer requested.\n",
    "        experiment_results = qctrl.functions.calculate_qchack_measurements(\n",
    "            controls=controls,\n",
    "            shot_count=shot_count,\n",
    "        )\n",
    "\n",
    "        # Record the best results after this round of experiments.\n",
    "        cost, controls = min(\n",
    "            zip(cost_function(experiment_results), parameter_set), key=lambda params: params[0]\n",
    "        )\n",
    "        if cost < best_cost:\n",
    "            best_cost = cost\n",
    "            best_controls = controls\n",
    "\n",
    "    # Print final best cost.\n",
    "    print(f\"Infidelity: {best_cost}\")\n",
    "\n",
    "    # Plot controls that correspond to the best cost.\n",
    "    plot_controls(\n",
    "        figure=plt.figure(),\n",
    "        controls={\n",
    "            r\"$\\Omega(t)$\": [\n",
    "                {\"duration\": duration / len(best_controls), \"value\": value}\n",
    "                for value in best_controls\n",
    "            ]\n",
    "        },\n",
    "    )\n",
    "    \n",
    "    return best_controls"
   ]
  },
  {
   "cell_type": "code",
   "execution_count": 5,
   "metadata": {},
   "outputs": [],
   "source": [
    "import jsonpickle.ext.numpy as jsonpickle_numpy\n",
    "jsonpickle_numpy.register_handlers()\n",
    "import jsonpickle\n",
    "import numpy as np"
   ]
  },
  {
   "cell_type": "code",
   "execution_count": 6,
   "metadata": {},
   "outputs": [],
   "source": [
    "def get_infidelities_xgate(experiment_results):\n",
    "    measurements = experiment_results.measurements\n",
    "    infidelities = []\n",
    "    for k in range(len(measurements)):\n",
    "        infidelity = 1.0 - (measurements[k].count(1) / shot_count);\n",
    "        infidelities.append(infidelity)\n",
    "    return infidelities"
   ]
  },
  {
   "cell_type": "code",
   "execution_count": 7,
   "metadata": {},
   "outputs": [
    {
     "name": "stderr",
     "output_type": "stream",
     "text": [
      "  0%|          | 0/100 [00:02<?, ?it/s]"
     ]
    },
    {
     "name": "stdout",
     "output_type": "stream",
     "text": [
      "Your task calculate_qchack_measurements is currently in a queue waiting to be processed.\n"
     ]
    },
    {
     "name": "stderr",
     "output_type": "stream",
     "text": [
      "100%|██████████| 100/100 [00:02<00:00, 42.12it/s]"
     ]
    },
    {
     "name": "stdout",
     "output_type": "stream",
     "text": [
      "[0.935 0.938 0.951 0.948 0.963 0.979 0.98  0.984 0.989 0.985 0.98  0.989 0.991 0.982 0.974 0.977 0.964 0.95  0.931 0.932]\n"
     ]
    },
    {
     "name": "stderr",
     "output_type": "stream",
     "text": [
      "\n"
     ]
    }
   ],
   "source": [
    "# These initial results are usually pretty bad\n",
    "(initial_results, parameter_set) = obtain_initial_results()\n",
    "with np.printoptions(precision=3, linewidth=140):\n",
    "    print(np.array(get_infidelities_xgate(initial_results)))"
   ]
  },
  {
   "cell_type": "code",
   "execution_count": 8,
   "metadata": {},
   "outputs": [
    {
     "name": "stdout",
     "output_type": "stream",
     "text": [
      "Best infidelity after 0 BOULDER OPAL optimization steps: 0.9306640625\n"
     ]
    },
    {
     "name": "stderr",
     "output_type": "stream",
     "text": [
      "  0%|          | 0/100 [00:02<?, ?it/s]"
     ]
    },
    {
     "name": "stdout",
     "output_type": "stream",
     "text": [
      "Your task calculate_closed_loop_optimization_step is currently in a queue waiting to be processed.\n"
     ]
    },
    {
     "name": "stderr",
     "output_type": "stream",
     "text": [
      "100%|██████████| 100/100 [00:04<00:00, 22.83it/s]\n"
     ]
    },
    {
     "name": "stdout",
     "output_type": "stream",
     "text": [
      "Your task calculate_closed_loop_optimization_step has started.\n"
     ]
    },
    {
     "name": "stderr",
     "output_type": "stream",
     "text": [
      "100%|██████████| 100/100 [00:02<00:00, 42.19it/s]\n"
     ]
    },
    {
     "name": "stdout",
     "output_type": "stream",
     "text": [
      "Best infidelity after 1 BOULDER OPAL optimization step: 0.833984375\n"
     ]
    },
    {
     "name": "stderr",
     "output_type": "stream",
     "text": [
      "100%|██████████| 100/100 [00:06<00:00, 15.24it/s]\n",
      "100%|██████████| 100/100 [00:02<00:00, 42.13it/s]\n"
     ]
    },
    {
     "name": "stdout",
     "output_type": "stream",
     "text": [
      "Best infidelity after 2 BOULDER OPAL optimization steps: 0.6611328125\n"
     ]
    },
    {
     "name": "stderr",
     "output_type": "stream",
     "text": [
      "100%|██████████| 100/100 [00:04<00:00, 22.84it/s]\n",
      "100%|██████████| 100/100 [00:02<00:00, 42.20it/s]\n"
     ]
    },
    {
     "name": "stdout",
     "output_type": "stream",
     "text": [
      "Best infidelity after 3 BOULDER OPAL optimization steps: 0.4091796875\n"
     ]
    },
    {
     "name": "stderr",
     "output_type": "stream",
     "text": [
      "100%|██████████| 100/100 [00:06<00:00, 15.25it/s]\n",
      "100%|██████████| 100/100 [00:02<00:00, 42.05it/s]\n"
     ]
    },
    {
     "name": "stdout",
     "output_type": "stream",
     "text": [
      "Best infidelity after 4 BOULDER OPAL optimization steps: 0.19140625\n"
     ]
    },
    {
     "name": "stderr",
     "output_type": "stream",
     "text": [
      "100%|██████████| 100/100 [00:06<00:00, 15.16it/s]\n",
      "100%|██████████| 100/100 [00:02<00:00, 42.20it/s]\n"
     ]
    },
    {
     "name": "stdout",
     "output_type": "stream",
     "text": [
      "Best infidelity after 5 BOULDER OPAL optimization steps: 0.1806640625\n"
     ]
    },
    {
     "name": "stderr",
     "output_type": "stream",
     "text": [
      "100%|██████████| 100/100 [00:06<00:00, 15.23it/s]\n",
      "100%|██████████| 100/100 [00:02<00:00, 41.92it/s]\n"
     ]
    },
    {
     "name": "stdout",
     "output_type": "stream",
     "text": [
      "Best infidelity after 6 BOULDER OPAL optimization steps: 0.162109375\n"
     ]
    },
    {
     "name": "stderr",
     "output_type": "stream",
     "text": [
      "100%|██████████| 100/100 [00:06<00:00, 15.26it/s]\n",
      "100%|██████████| 100/100 [00:02<00:00, 42.24it/s]\n"
     ]
    },
    {
     "name": "stdout",
     "output_type": "stream",
     "text": [
      "Best infidelity after 7 BOULDER OPAL optimization steps: 0.1328125\n"
     ]
    },
    {
     "name": "stderr",
     "output_type": "stream",
     "text": [
      "100%|██████████| 100/100 [00:06<00:00, 15.23it/s]\n",
      "100%|██████████| 100/100 [00:02<00:00, 42.15it/s]\n"
     ]
    },
    {
     "name": "stdout",
     "output_type": "stream",
     "text": [
      "Infidelity: 0.02734375\n"
     ]
    },
    {
     "data": {
      "image/png": "[encoded data removed]",
      "text/plain": [
       "<Figure size 504x144 with 1 Axes>"
      ]
     },
     "metadata": {
      "needs_background": "light"
     },
     "output_type": "display_data"
    }
   ],
   "source": [
    "x_gate_control = optimize_gate(initial_results, parameter_set, get_infidelities_xgate)\n",
    "not_control = {\"duration\": duration, \"value\": x_gate_control}\n",
    "json_not_control = jsonpickle.encode(not_control)\n",
    "with open('not_gate_pulse.json', 'w') as file:\n",
    "    file.write(json_not_control)"
   ]
  },
  {
   "cell_type": "code",
   "execution_count": 9,
   "metadata": {},
   "outputs": [
    {
     "name": "stderr",
     "output_type": "stream",
     "text": [
      "100%|██████████| 100/100 [00:02<00:00, 45.58it/s]"
     ]
    },
    {
     "name": "stdout",
     "output_type": "stream",
     "text": [
      "control #0: P(|0>) = 0.03, P(|1>) = 0.97, P(|2>) = 0.00\n"
     ]
    },
    {
     "name": "stderr",
     "output_type": "stream",
     "text": [
      "\n"
     ]
    }
   ],
   "source": [
    "# Obtain and print the final results of the experiment.\n",
    "experiment_results = qctrl.functions.calculate_qchack_measurements(\n",
    "    controls=[{'duration': duration, 'values': x_gate_control}],\n",
    "    shot_count=shot_count,\n",
    ")\n",
    "\n",
    "measurements = experiment_results.measurements\n",
    "for k, measurement_counts in enumerate(measurements):\n",
    "    p0 = measurement_counts.count(0) / shot_count\n",
    "    p1 = measurement_counts.count(1) / shot_count\n",
    "    p2 = measurement_counts.count(2) / shot_count\n",
    "    print(f\"control #{k}: P(|0>) = {p0:.2f}, P(|1>) = {p1:.2f}, P(|2>) = {p2:.2f}\")"
   ]
  },
  {
   "cell_type": "code",
   "execution_count": 10,
   "metadata": {},
   "outputs": [],
   "source": [
    "def get_infidelities_hgate(experiment_results):\n",
    "    measurements = experiment_results.measurements\n",
    "    infidelities = []\n",
    "    for k in range(len(measurements)):\n",
    "        infidelity = abs(measurements[k].count(0) - measurements[k].count(1)) / shot_count\n",
    "        infidelities.append(infidelity)\n",
    "    return infidelities"
   ]
  },
  {
   "cell_type": "code",
   "execution_count": 11,
   "metadata": {},
   "outputs": [
    {
     "name": "stderr",
     "output_type": "stream",
     "text": [
      "100%|██████████| 100/100 [00:02<00:00, 42.23it/s]"
     ]
    },
    {
     "name": "stdout",
     "output_type": "stream",
     "text": [
      "[0.844 0.854 0.893 0.908 0.934 0.934 0.959 0.953 0.973 0.973 0.982 0.994 0.957 0.971 0.953 0.924 0.922 0.9   0.871 0.854]\n"
     ]
    },
    {
     "name": "stderr",
     "output_type": "stream",
     "text": [
      "\n"
     ]
    }
   ],
   "source": [
    "# These initial results are usually pretty bad\n",
    "(initial_results, parameter_set) = obtain_initial_results()\n",
    "with np.printoptions(precision=3, linewidth=140):\n",
    "    print(np.array(get_infidelities_hgate(initial_results)))"
   ]
  },
  {
   "cell_type": "code",
   "execution_count": 12,
   "metadata": {},
   "outputs": [
    {
     "name": "stdout",
     "output_type": "stream",
     "text": [
      "Best infidelity after 0 BOULDER OPAL optimization steps: 0.84375\n"
     ]
    },
    {
     "name": "stderr",
     "output_type": "stream",
     "text": [
      "100%|██████████| 100/100 [00:04<00:00, 22.88it/s]\n",
      "100%|██████████| 100/100 [00:02<00:00, 41.99it/s]\n"
     ]
    },
    {
     "name": "stdout",
     "output_type": "stream",
     "text": [
      "Best infidelity after 1 BOULDER OPAL optimization step: 0.64453125\n"
     ]
    },
    {
     "name": "stderr",
     "output_type": "stream",
     "text": [
      "100%|██████████| 100/100 [00:06<00:00, 15.25it/s]\n",
      "100%|██████████| 100/100 [00:02<00:00, 42.09it/s]\n"
     ]
    },
    {
     "name": "stdout",
     "output_type": "stream",
     "text": [
      "Best infidelity after 2 BOULDER OPAL optimization steps: 0.173828125\n"
     ]
    },
    {
     "name": "stderr",
     "output_type": "stream",
     "text": [
      "100%|██████████| 100/100 [00:04<00:00, 22.87it/s]\n",
      "100%|██████████| 100/100 [00:02<00:00, 41.94it/s]\n"
     ]
    },
    {
     "name": "stdout",
     "output_type": "stream",
     "text": [
      "Best infidelity after 3 BOULDER OPAL optimization steps: 0.0546875\n"
     ]
    },
    {
     "name": "stderr",
     "output_type": "stream",
     "text": [
      "100%|██████████| 100/100 [00:04<00:00, 22.86it/s]\n",
      "100%|██████████| 100/100 [00:02<00:00, 42.22it/s]\n"
     ]
    },
    {
     "name": "stdout",
     "output_type": "stream",
     "text": [
      "Best infidelity after 4 BOULDER OPAL optimization steps: 0.0546875\n"
     ]
    },
    {
     "name": "stderr",
     "output_type": "stream",
     "text": [
      "100%|██████████| 100/100 [00:04<00:00, 22.88it/s]\n",
      "100%|██████████| 100/100 [00:02<00:00, 42.07it/s]\n"
     ]
    },
    {
     "name": "stdout",
     "output_type": "stream",
     "text": [
      "Best infidelity after 5 BOULDER OPAL optimization steps: 0.0546875\n"
     ]
    },
    {
     "name": "stderr",
     "output_type": "stream",
     "text": [
      "100%|██████████| 100/100 [00:04<00:00, 22.70it/s]\n",
      "100%|██████████| 100/100 [00:02<00:00, 42.02it/s]\n"
     ]
    },
    {
     "name": "stdout",
     "output_type": "stream",
     "text": [
      "Infidelity: 0.0\n"
     ]
    },
    {
     "data": {
      "image/png": "[encoded data removed]",
      "text/plain": [
       "<Figure size 504x144 with 1 Axes>"
      ]
     },
     "metadata": {
      "needs_background": "light"
     },
     "output_type": "display_data"
    }
   ],
   "source": [
    "h_gate_control = optimize_gate(initial_results, parameter_set, get_infidelities_hgate)\n",
    "h_control = {\"duration\": duration, \"value\": h_gate_control}\n",
    "json_not_control = jsonpickle.encode(h_control)\n",
    "with open('h_gate_pulse.json', 'w') as file:\n",
    "    file.write(json_not_control)"
   ]
  },
  {
   "cell_type": "code",
   "execution_count": 13,
   "metadata": {},
   "outputs": [
    {
     "name": "stderr",
     "output_type": "stream",
     "text": [
      "100%|██████████| 100/100 [00:02<00:00, 45.56it/s]"
     ]
    },
    {
     "name": "stdout",
     "output_type": "stream",
     "text": [
      "control #0: P(|0>) = 0.51, P(|1>) = 0.49, P(|2>) = 0.00\n"
     ]
    },
    {
     "name": "stderr",
     "output_type": "stream",
     "text": [
      "\n"
     ]
    }
   ],
   "source": [
    "# Obtain and print the final results of the experiment.\n",
    "experiment_results = qctrl.functions.calculate_qchack_measurements(\n",
    "    controls=[{'duration': duration, 'values': h_gate_control}],\n",
    "    shot_count=shot_count,\n",
    ")\n",
    "\n",
    "measurements = experiment_results.measurements\n",
    "for k, measurement_counts in enumerate(measurements):\n",
    "    p0 = measurement_counts.count(0) / shot_count\n",
    "    p1 = measurement_counts.count(1) / shot_count\n",
    "    p2 = measurement_counts.count(2) / shot_count\n",
    "    print(f\"control #{k}: P(|0>) = {p0:.2f}, P(|1>) = {p1:.2f}, P(|2>) = {p2:.2f}\")"
   ]
  },
  {
   "cell_type": "code",
   "execution_count": 15,
   "metadata": {},
   "outputs": [
    {
     "name": "stderr",
     "output_type": "stream",
     "text": [
      "100%|██████████| 100/100 [00:02<00:00, 44.87it/s]"
     ]
    },
    {
     "name": "stdout",
     "output_type": "stream",
     "text": [
      "With  1 repetitions: P(|0>) = 0.50, P(|1>) = 0.50, P(|2>) = 0.00\n",
      "With  4 repetitions: P(|0>) = 0.55, P(|1>) = 0.45, P(|2>) = 0.00\n",
      "With 16 repetitions: P(|0>) = 0.70, P(|1>) = 0.30, P(|2>) = 0.00\n",
      "With 32 repetitions: P(|0>) = 0.34, P(|1>) = 0.66, P(|2>) = 0.00\n",
      "With 64 repetitions: P(|0>) = 0.90, P(|1>) = 0.10, P(|2>) = 0.00\n"
     ]
    },
    {
     "name": "stderr",
     "output_type": "stream",
     "text": [
      "\n"
     ]
    }
   ],
   "source": [
    "# Try now with multiple repetitions to see how error increases\n",
    "repetitions = [1, 4, 16, 32, 64]\n",
    "controls = []\n",
    "\n",
    "for repetition_count in repetitions:\n",
    "    controls.append({\"duration\": duration, \"values\": h_gate_control, \"repetition_count\": repetition_count})\n",
    "\n",
    "experiment_results = qctrl.functions.calculate_qchack_measurements(\n",
    "    controls=controls,\n",
    "    shot_count=shot_count,\n",
    "    )\n",
    "\n",
    "for repetition_count, measurement_counts in zip(repetitions, experiment_results.measurements):\n",
    "    p0 = measurement_counts.count(0) / shot_count\n",
    "    p1 = measurement_counts.count(1) / shot_count\n",
    "    p2 = measurement_counts.count(2) / shot_count\n",
    "    print(f\"With {repetition_count:2d} repetitions: P(|0>) = {p0:.2f}, P(|1>) = {p1:.2f}, P(|2>) = {p2:.2f}\")"
   ]
  },
  {
   "cell_type": "code",
   "execution_count": null,
   "metadata": {},
   "outputs": [],
   "source": []
  }
 ],
 "metadata": {
  "kernelspec": {
   "display_name": "Python 3",
   "language": "python",
   "name": "python3"
  },
  "language_info": {
   "codemirror_mode": {
    "name": "ipython",
    "version": 3
   },
   "file_extension": ".py",
   "mimetype": "text/x-python",
   "name": "python",
   "nbconvert_exporter": "python",
   "pygments_lexer": "ipython3",
   "version": "3.7.6"
  }
 },
 "nbformat": 4,
 "nbformat_minor": 5
}
