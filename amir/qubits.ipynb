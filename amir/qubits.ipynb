{
 "cells": [
  {
   "cell_type": "code",
   "execution_count": 2,
   "metadata": {},
   "outputs": [],
   "source": [
    "import matplotlib.pyplot as plt\n",
    "import numpy as np\n",
    "from qctrlvisualizer import get_qctrl_style\n",
    "from scipy.linalg import expm\n",
    "\n",
    "from qctrl import Qctrl\n",
    "\n",
    "plt.style.use(get_qctrl_style())\n",
    "\n",
    "# Define standard matrices\n",
    "sigma_x = np.array([[0, 1], [1, 0]], dtype=np.complex)\n",
    "sigma_y = np.array([[0, -1j], [1j, 0]], dtype=np.complex)\n",
    "sigma_z = np.array([[1, 0], [0, -1]], dtype=np.complex)\n",
    "\n",
    "# Start a session with the API\n",
    "qctrl = Qctrl()"
   ]
  },
  {
   "cell_type": "markdown",
   "metadata": {},
   "source": [
    "### Ideal Qubit\n",
    "\n",
    "$$\\frac{H(t)}{\\hbar} = \\frac{1}{2} \\Omega(t) b + \\frac{1}{2} \\Omega^\\ast(t) b^\\dagger$$\n"
   ]
  },
  {
   "cell_type": "code",
   "execution_count": 2,
   "metadata": {},
   "outputs": [],
   "source": [
    "def simulate_ideal_qubit(\n",
    "    duration=1, values=np.array([np.pi]), shots=1024, repetitions=1\n",
    "):\n",
    "\n",
    "    b = np.array([[0, 1], [0, 0]])  # Lowering operator\n",
    "    initial_state = np.array([[1], [0]])  # Initial state of qubit in |0>\n",
    "\n",
    "    with qctrl.create_graph() as graph:\n",
    "\n",
    "        # Create time dependent \\Omega(t)\n",
    "        drive = qctrl.operations.pwc_signal(duration=duration, values=values)\n",
    "\n",
    "        # Construct Hamiltonian (\\Omega(t) b + \\Omega^*(t) b^\\dagger)/2\n",
    "        hamiltonian = qctrl.operations.pwc_operator_hermitian_part(\n",
    "            qctrl.operations.pwc_operator(signal=drive, operator=b)\n",
    "        )\n",
    "\n",
    "        # Solve Schrodinger's equation and get total unitary at the end\n",
    "        unitary = qctrl.operations.time_evolution_operators_pwc(\n",
    "            hamiltonian=hamiltonian,\n",
    "            sample_times=np.array([duration]),\n",
    "        )[-1]\n",
    "        unitary.name = \"unitary\"\n",
    "\n",
    "        # Repeat final unitary\n",
    "        repeated_unitary = np.eye(2)\n",
    "        for _ in range(repetitions):\n",
    "            repeated_unitary = repeated_unitary @ unitary\n",
    "        repeated_unitary.name = \"repeated_unitary\"\n",
    "\n",
    "        # Calculate final state.\n",
    "        state = repeated_unitary @ initial_state\n",
    "\n",
    "        # Calculate final populations.\n",
    "        populations = qctrl.operations.abs(state[:, 0]) ** 2\n",
    "        # Normalize populations because of numerical precision\n",
    "        norm = qctrl.operations.sum(populations)\n",
    "        populations = populations / norm\n",
    "        populations.name = \"populations\"\n",
    "\n",
    "    # Evaluate graph.\n",
    "    result = qctrl.functions.calculate_graph(\n",
    "        graph=graph,\n",
    "        output_node_names=[\"unitary\", \"repeated_unitary\", \"populations\"],\n",
    "    )\n",
    "\n",
    "    # Extract outputs.\n",
    "    unitary = result.output[\"unitary\"][\"value\"]\n",
    "    repeated_unitary = result.output[\"repeated_unitary\"][\"value\"]\n",
    "    populations = result.output[\"populations\"][\"value\"]\n",
    "\n",
    "    # Sample projective measurements.\n",
    "    measurements = np.random.choice(2, size=shots, p=populations)\n",
    "\n",
    "    results = {\"unitary\": unitary, \"measurements\": measurements}\n",
    "\n",
    "    return results\n"
   ]
  },
  {
   "cell_type": "markdown",
   "metadata": {},
   "source": [
    "### Realistic Qubit Hamiltonian\n",
    "\n",
    "$$\\frac{H(t)}{\\hbar} = \\epsilon_D(t) b^\\dagger b + \\frac{1}{2} \\Omega(t) b + \\frac{1}{2} \\Omega(t) b^\\dagger $$\n",
    "$$ \\frac{H(t)}{\\hbar} = \\frac{1}{2} (I(t)(1 + \\epsilon_I(t)) + Q(t)(1 + \\epsilon_Q(t))) b + \\mbox{ h. c. } $$"
   ]
  },
  {
   "cell_type": "code",
   "execution_count": 3,
   "metadata": {},
   "outputs": [],
   "source": [
    "def simulate_more_realistic_qubit(\n",
    "    duration=1, values=np.array([np.pi]), shots=1024, repetitions=1\n",
    "):\n",
    "\n",
    "    # 1. Limits for drive amplitudes\n",
    "    assert np.amax(values) <= 1.0\n",
    "    assert np.amin(values) >= -1.0\n",
    "    max_drive_amplitude = 2 * np.pi * 20  # MHz\n",
    "\n",
    "    # 2. Dephasing error\n",
    "    dephasing_error = -2 * 2 * np.pi  # MHz\n",
    "\n",
    "    # 3. Amplitude error\n",
    "    amplitude_i_error = 0.98\n",
    "    amplitude_q_error = 1.03\n",
    "\n",
    "    # 4. Control line bandwidth limit\n",
    "    cut_off_frequency = 2 * np.pi * 10  # MHz\n",
    "    resample_segment_count = 1000\n",
    "\n",
    "    # 5. SPAM error confusion matrix\n",
    "    confusion_matrix = np.array([[0.99, 0.01], [0.02, 0.98]])\n",
    "\n",
    "    # Lowering operator\n",
    "    b = np.array([[0, 1], [0, 0]])\n",
    "    # Number operator\n",
    "    n = np.diag([0, 1])\n",
    "    # Initial state\n",
    "    initial_state = np.array([[1], [0]])\n",
    "\n",
    "    with qctrl.create_graph() as graph:\n",
    "        # Apply 1. max Rabi rate.\n",
    "        values = values * max_drive_amplitude\n",
    "\n",
    "        # Apply 3. amplitude errors.\n",
    "        values_i = np.real(values) * amplitude_i_error\n",
    "        values_q = np.imag(values) * amplitude_q_error\n",
    "        values = values_i + 1j * values_q\n",
    "\n",
    "        # Apply 4. bandwidth limits\n",
    "        drive_unfiltered = qctrl.operations.pwc_signal(duration=duration, values=values)\n",
    "        drive_filtered = qctrl.operations.convolve_pwc(\n",
    "            pwc=drive_unfiltered,\n",
    "            kernel_integral=qctrl.operations.sinc_integral_function(cut_off_frequency),\n",
    "        )\n",
    "        drive = qctrl.operations.discretize_stf(\n",
    "            drive_filtered, duration=duration, segments_count=resample_segment_count\n",
    "        )\n",
    "\n",
    "        # Construct microwave drive\n",
    "        drive_term = qctrl.operations.pwc_operator_hermitian_part(\n",
    "            qctrl.operations.pwc_operator(signal=drive, operator=b)\n",
    "        )\n",
    "\n",
    "        # Construct 2. dephasing term.\n",
    "        dephasing_term = qctrl.operations.constant_pwc_operator(\n",
    "            operator=dephasing_error * n,\n",
    "            duration=duration,\n",
    "        )\n",
    "\n",
    "        # Construct Hamiltonian.\n",
    "        hamiltonian = qctrl.operations.pwc_sum(\n",
    "            [\n",
    "                drive_term,\n",
    "                dephasing_term,\n",
    "            ]\n",
    "        )\n",
    "\n",
    "        # Solve Schrodinger's equation and get total unitary at the end\n",
    "        unitary = qctrl.operations.time_evolution_operators_pwc(\n",
    "            hamiltonian=hamiltonian,\n",
    "            sample_times=np.array([duration]),\n",
    "        )[-1]\n",
    "        unitary.name = \"unitary\"\n",
    "\n",
    "        # Repeat final unitary\n",
    "        repeated_unitary = np.eye(2)\n",
    "        for _ in range(repetitions):\n",
    "            repeated_unitary = repeated_unitary @ unitary\n",
    "        repeated_unitary.name = \"repeated_unitary\"\n",
    "\n",
    "        # Calculate final state.\n",
    "        state = repeated_unitary @ initial_state\n",
    "\n",
    "        # Calculate final populations.\n",
    "        populations = qctrl.operations.abs(state[:, 0]) ** 2\n",
    "        # Normalize populations\n",
    "        norm = qctrl.operations.sum(populations)\n",
    "        populations = populations / norm\n",
    "        populations.name = \"populations\"\n",
    "\n",
    "    # Evaluate graph.\n",
    "    result = qctrl.functions.calculate_graph(\n",
    "        graph=graph,\n",
    "        output_node_names=[\"unitary\", \"repeated_unitary\", \"populations\"],\n",
    "    )\n",
    "\n",
    "    # Extract outputs.\n",
    "    unitary = result.output[\"unitary\"][\"value\"]\n",
    "    repeated_unitary = result.output[\"repeated_unitary\"][\"value\"]\n",
    "    populations = result.output[\"populations\"][\"value\"]\n",
    "\n",
    "    # Sample projective measurements.\n",
    "    true_measurements = np.random.choice(2, size=shots, p=populations)\n",
    "    measurements = np.array(\n",
    "        [np.random.choice(2, p=confusion_matrix[m]) for m in true_measurements]\n",
    "    )\n",
    "\n",
    "    results = {\"unitary\": unitary, \"measurements\": measurements}\n",
    "\n",
    "    return results\n"
   ]
  },
  {
   "cell_type": "code",
   "execution_count": 14,
   "metadata": {},
   "outputs": [
    {
     "data": {
      "text/plain": [
       "1024"
      ]
     },
     "execution_count": 14,
     "metadata": {},
     "output_type": "execute_result"
    }
   ],
   "source": [
    "len(results['measurements'])"
   ]
  },
  {
   "cell_type": "code",
   "execution_count": 15,
   "metadata": {},
   "outputs": [],
   "source": [
    "max_rabi_rate = 20 * 2 * np.pi  # MHz\n",
    "not_duration = np.pi / (max_rabi_rate)  # us\n",
    "h_duration = np.pi / (2 * max_rabi_rate)  # us\n",
    "shots = 1024\n",
    "\n",
    "values = np.array([1.0])"
   ]
  },
  {
   "cell_type": "code",
   "execution_count": 20,
   "metadata": {},
   "outputs": [
    {
     "data": {
      "application/vnd.jupyter.widget-view+json": {
       "model_id": "",
       "version_major": 2,
       "version_minor": 0
      },
      "text/plain": [
       "HBox(children=(FloatProgress(value=0.0), HTML(value='')))"
      ]
     },
     "metadata": {},
     "output_type": "display_data"
    },
    {
     "name": "stdout",
     "output_type": "stream",
     "text": [
      "Your task calculate_graph has started.\n",
      "Your task calculate_graph has completed in 5s.\n"
     ]
    }
   ],
   "source": [
    "not_results = simulate_more_realistic_qubit(duration=not_duration, values=values, shots=1024, repetitions=1)"
   ]
  },
  {
   "cell_type": "code",
   "execution_count": 27,
   "metadata": {},
   "outputs": [],
   "source": [
    "not_measurements = not_results[\"measurements\"]\n",
    "\n",
    "def estimate_probability_of_one(measurements):\n",
    "    size = len(measurements)\n",
    "    probability = np.mean(measurements)\n",
    "    standard_error = np.std(measurements) / np.sqrt(size)\n",
    "    return (probability, standard_error)\n",
    "\n",
    "\n",
    "not_probability, not_standard_error = estimate_probability_of_one(not_measurements)"
   ]
  },
  {
   "cell_type": "code",
   "execution_count": 29,
   "metadata": {},
   "outputs": [],
   "source": [
    "measurement_results = not_measurements\n",
    "measurement_errors = 1 - not_measurements"
   ]
  },
  {
   "cell_type": "code",
   "execution_count": 22,
   "metadata": {},
   "outputs": [
    {
     "name": "stdout",
     "output_type": "stream",
     "text": [
      "NOT estimated probability of getting 1:0.427734375\n",
      "NOT estimate standard error:0.01546094119325876\n"
     ]
    }
   ],
   "source": [
    "print(\"NOT estimated probability of getting 1:\" + str(not_probability))\n",
    "print(\"NOT estimate standard error:\" + str(not_standard_error))"
   ]
  },
  {
   "cell_type": "code",
   "execution_count": 40,
   "metadata": {},
   "outputs": [],
   "source": [
    "# Define standard matrices\n",
    "sigma_y = np.array([[0, -1j], [1j, 0]])\n",
    "sigma_z = np.array([[1, 0], [0, -1]])\n",
    "sigma_m = np.array([[0, 1], [0, 0]])\n",
    "\n",
    "# Define physical constants\n",
    "nu = 2 * np.pi * 0.5 * 1e6  # Hz\n",
    "gamma_max = 2 * np.pi * 0.5e6  # Hz\n",
    "alpha_max = 2 * np.pi * 0.5e6  # Hz\n",
    "segment_count = 50\n",
    "duration = 10e-6  # s\n",
    "\n",
    "# Define the data flow graph describing the system\n",
    "with qctrl.create_graph() as graph:\n",
    "\n",
    "    nu = qctrl.operations.bounded_optimization_variable(\n",
    "        count=1, lower_bound=np.pi * 0.5e6, upper_bound=3 * np.pi * 0.5e6, name=\"nu\"\n",
    "    )\n",
    "    \n",
    "    # Create a constant piecewise-constant (PWC) operator representing the\n",
    "    # detuning term\n",
    "    detuning = qctrl.operations.constant_pwc_operator(\n",
    "        duration=duration,\n",
    "        operator=nu * sigma_z / 2,\n",
    "    )\n",
    "\n",
    "    i = qctrl.operations.bounded_optimization_variable(\n",
    "            count=segment_count,\n",
    "            lower_bound=np.pi * 20,\n",
    "            upper_bound=3 * np.pi * 20,\n",
    "            name=\"i\"\n",
    "        )\n",
    "    \n",
    "    q = qctrl.operations.unbounded_optimization_variable(\n",
    "            count=segment_count,\n",
    "            initial_lower_bound=0,\n",
    "            initial_upper_bound=2 * np.pi,\n",
    "            name=\"q\"\n",
    "        )\n",
    "    \n",
    "    # Create a complex PWC signal, with optimizable modulus and phase,\n",
    "    # representing gamma(t)\n",
    "    gamma = qctrl.operations.complex_pwc_signal(\n",
    "        moduli=i,\n",
    "        phases=q,\n",
    "        duration=duration,\n",
    "        name=\"gamma\",\n",
    "    )\n",
    "    # Create a PWC operator representing the drive term\n",
    "    drive = qctrl.operations.pwc_operator_hermitian_part(\n",
    "        qctrl.operations.pwc_operator(signal=gamma, operator=sigma_m)\n",
    "    )\n",
    "\n",
    "    # Create a real PWC signal, with optimizable amplitude, representing\n",
    "    # alpha(t)\n",
    "    alpha = qctrl.operations.pwc_signal(\n",
    "        values=qctrl.operations.bounded_optimization_variable(\n",
    "            count=segment_count, lower_bound=-alpha_max, upper_bound=alpha_max\n",
    "        ),\n",
    "        duration=duration,\n",
    "        name=\"alpha\",\n",
    "    )\n",
    "    # Create a PWC operator representing the clock shift term\n",
    "    shift = qctrl.operations.pwc_operator(signal=alpha, operator=sigma_z / 2)\n",
    "\n",
    "    # Create a constant PWC operator representing the dephasing noise\n",
    "    # (note that we scale by 1/duration to ensure consistent units between\n",
    "    # the noise Hamiltonian and the control Hamiltonian)\n",
    "    dephasing = qctrl.operations.constant_pwc_operator(\n",
    "        duration=duration, operator=sigma_z / duration\n",
    "    )\n",
    "\n",
    "    # Create the target operator\n",
    "    target_operator = qctrl.operations.target(operator=sigma_x)\n",
    "\n",
    "    # Create infidelity\n",
    "    infidelity = qctrl.operations.infidelity_pwc(\n",
    "        hamiltonian=qctrl.operations.pwc_sum([detuning, drive, shift]),\n",
    "        noise_operators=[dephasing],\n",
    "        target_operator=target_operator,\n",
    "        name=\"infidelity\",\n",
    "    )\n",
    "    \n",
    "    calculated_points = 1.0 - infidelity\n",
    "    \n",
    "    # Calculate cost\n",
    "    cost = qctrl.operations.sum(\n",
    "        (calculated_points - measurement_results) ** 2.0\n",
    "        / (2.0 * measurement_errors ** 2.0),\n",
    "        name=\"cost\",\n",
    "    )\n",
    "\n",
    "    # Calculate Hessian\n",
    "    hessian = qctrl.operations.hessian_matrix(cost, [nu, i, q], name=\"hessian\")"
   ]
  },
  {
   "cell_type": "code",
   "execution_count": 41,
   "metadata": {},
   "outputs": [
    {
     "data": {
      "application/vnd.jupyter.widget-view+json": {
       "model_id": "",
       "version_major": 2,
       "version_minor": 0
      },
      "text/plain": [
       "HBox(children=(FloatProgress(value=0.0), HTML(value='')))"
      ]
     },
     "metadata": {},
     "output_type": "display_data"
    },
    {
     "ename": "RuntimeError",
     "evalue": "Execution failed: Tensor conversion requested dtype complex128 for Tensor with dtype float64: <tf.Tensor 'strided_slice_1:0' shape=(1, 2, 2) dtype=float64>",
     "output_type": "error",
     "traceback": [
      "\u001b[0;31m---------------------------------------------------------------------------\u001b[0m",
      "\u001b[0;31mRuntimeError\u001b[0m                              Traceback (most recent call last)",
      "\u001b[0;32m<ipython-input-41-8a5cdbc8bb0f>\u001b[0m in \u001b[0;36m<module>\u001b[0;34m\u001b[0m\n\u001b[1;32m      4\u001b[0m     \u001b[0moutput_node_names\u001b[0m\u001b[0;34m=\u001b[0m\u001b[0;34m[\u001b[0m\u001b[0;34m\"nu\"\u001b[0m\u001b[0;34m,\u001b[0m \u001b[0;34m\"i\"\u001b[0m\u001b[0;34m,\u001b[0m \u001b[0;34m\"q\"\u001b[0m\u001b[0;34m,\u001b[0m \u001b[0;34m\"hessian\"\u001b[0m\u001b[0;34m]\u001b[0m\u001b[0;34m,\u001b[0m\u001b[0;34m\u001b[0m\u001b[0;34m\u001b[0m\u001b[0m\n\u001b[1;32m      5\u001b[0m     \u001b[0moptimization_count\u001b[0m\u001b[0;34m=\u001b[0m\u001b[0;36m10\u001b[0m\u001b[0;34m,\u001b[0m\u001b[0;34m\u001b[0m\u001b[0;34m\u001b[0m\u001b[0m\n\u001b[0;32m----> 6\u001b[0;31m     \u001b[0mgraph\u001b[0m\u001b[0;34m=\u001b[0m\u001b[0mgraph\u001b[0m\u001b[0;34m,\u001b[0m\u001b[0;34m\u001b[0m\u001b[0;34m\u001b[0m\u001b[0m\n\u001b[0m\u001b[1;32m      7\u001b[0m )\n\u001b[1;32m      8\u001b[0m \u001b[0;34m\u001b[0m\u001b[0m\n",
      "\u001b[0;32m/opt/conda/lib/python3.7/site-packages/forge/_revision.py\u001b[0m in \u001b[0;36minner\u001b[0;34m(*args, **kwargs)\u001b[0m\n\u001b[1;32m    326\u001b[0m                 \u001b[0;31m# pylint: disable=E1102, not-callable\u001b[0m\u001b[0;34m\u001b[0m\u001b[0;34m\u001b[0m\u001b[0;34m\u001b[0m\u001b[0m\n\u001b[1;32m    327\u001b[0m                 \u001b[0mmapped\u001b[0m \u001b[0;34m=\u001b[0m \u001b[0minner\u001b[0m\u001b[0;34m.\u001b[0m\u001b[0m__mapper__\u001b[0m\u001b[0;34m(\u001b[0m\u001b[0;34m*\u001b[0m\u001b[0margs\u001b[0m\u001b[0;34m,\u001b[0m \u001b[0;34m**\u001b[0m\u001b[0mkwargs\u001b[0m\u001b[0;34m)\u001b[0m\u001b[0;34m\u001b[0m\u001b[0;34m\u001b[0m\u001b[0m\n\u001b[0;32m--> 328\u001b[0;31m                 \u001b[0;32mreturn\u001b[0m \u001b[0mcallable\u001b[0m\u001b[0;34m(\u001b[0m\u001b[0;34m*\u001b[0m\u001b[0mmapped\u001b[0m\u001b[0;34m.\u001b[0m\u001b[0margs\u001b[0m\u001b[0;34m,\u001b[0m \u001b[0;34m**\u001b[0m\u001b[0mmapped\u001b[0m\u001b[0;34m.\u001b[0m\u001b[0mkwargs\u001b[0m\u001b[0;34m)\u001b[0m\u001b[0;34m\u001b[0m\u001b[0;34m\u001b[0m\u001b[0m\n\u001b[0m\u001b[1;32m    329\u001b[0m \u001b[0;34m\u001b[0m\u001b[0m\n\u001b[1;32m    330\u001b[0m         \u001b[0mnext_\u001b[0m\u001b[0;34m.\u001b[0m\u001b[0mvalidate\u001b[0m\u001b[0;34m(\u001b[0m\u001b[0;34m)\u001b[0m\u001b[0;34m\u001b[0m\u001b[0;34m\u001b[0m\u001b[0m\n",
      "\u001b[0;32m~/.local/lib/python3.7/site-packages/qctrl/builders/functions.py\u001b[0m in \u001b[0;36mfunc\u001b[0;34m(**kwargs)\u001b[0m\n\u001b[1;32m    112\u001b[0m         )\n\u001b[1;32m    113\u001b[0m         \u001b[0mrefresh_query\u001b[0m \u001b[0;34m=\u001b[0m \u001b[0menv\u001b[0m\u001b[0;34m.\u001b[0m\u001b[0mbuild_refresh_query\u001b[0m\u001b[0;34m(\u001b[0m\u001b[0mmutation_field\u001b[0m\u001b[0;34m.\u001b[0m\u001b[0mtype\u001b[0m\u001b[0;34m,\u001b[0m \u001b[0mresult\u001b[0m\u001b[0;34m.\u001b[0m\u001b[0maction_id\u001b[0m\u001b[0;34m)\u001b[0m\u001b[0;34m\u001b[0m\u001b[0;34m\u001b[0m\u001b[0m\n\u001b[0;32m--> 114\u001b[0;31m         \u001b[0menv\u001b[0m\u001b[0;34m.\u001b[0m\u001b[0mwait_for_completion\u001b[0m\u001b[0;34m(\u001b[0m\u001b[0mmutation_field\u001b[0m\u001b[0;34m.\u001b[0m\u001b[0mtype\u001b[0m\u001b[0;34m,\u001b[0m \u001b[0mresult\u001b[0m\u001b[0;34m,\u001b[0m \u001b[0mrefresh_query\u001b[0m\u001b[0;34m)\u001b[0m\u001b[0;34m\u001b[0m\u001b[0;34m\u001b[0m\u001b[0m\n\u001b[0m\u001b[1;32m    115\u001b[0m         \u001b[0;32mreturn\u001b[0m \u001b[0mresult\u001b[0m\u001b[0;34m\u001b[0m\u001b[0;34m\u001b[0m\u001b[0m\n\u001b[1;32m    116\u001b[0m \u001b[0;34m\u001b[0m\u001b[0m\n",
      "\u001b[0;32m~/.local/lib/python3.7/site-packages/qctrl/builders/custom_environment.py\u001b[0m in \u001b[0;36mwait_for_completion\u001b[0;34m(self, field_type, obj, refresh_query)\u001b[0m\n\u001b[1;32m    139\u001b[0m         \u001b[0;32mif\u001b[0m \u001b[0;32mnot\u001b[0m \u001b[0mobj\u001b[0m\u001b[0;34m.\u001b[0m\u001b[0mis_successful\u001b[0m\u001b[0;34m:\u001b[0m\u001b[0;34m\u001b[0m\u001b[0;34m\u001b[0m\u001b[0m\n\u001b[1;32m    140\u001b[0m             \u001b[0;32mif\u001b[0m \u001b[0mobj\u001b[0m\u001b[0;34m.\u001b[0m\u001b[0mjob_errors\u001b[0m\u001b[0;34m:\u001b[0m\u001b[0;34m\u001b[0m\u001b[0;34m\u001b[0m\u001b[0m\n\u001b[0;32m--> 141\u001b[0;31m                 \u001b[0;32mraise\u001b[0m \u001b[0mRuntimeError\u001b[0m\u001b[0;34m(\u001b[0m\u001b[0;34mf\"Execution failed: {obj.job_errors.exception}\"\u001b[0m\u001b[0;34m)\u001b[0m\u001b[0;34m\u001b[0m\u001b[0;34m\u001b[0m\u001b[0m\n\u001b[0m\u001b[1;32m    142\u001b[0m \u001b[0;34m\u001b[0m\u001b[0m\n\u001b[1;32m    143\u001b[0m             \u001b[0;32mif\u001b[0m \u001b[0mobj\u001b[0m\u001b[0;34m.\u001b[0m\u001b[0mstatus\u001b[0m \u001b[0;34m==\u001b[0m \u001b[0mobj\u001b[0m\u001b[0;34m.\u001b[0m\u001b[0mFAILURE\u001b[0m\u001b[0;34m:\u001b[0m\u001b[0;34m\u001b[0m\u001b[0;34m\u001b[0m\u001b[0m\n",
      "\u001b[0;31mRuntimeError\u001b[0m: Execution failed: Tensor conversion requested dtype complex128 for Tensor with dtype float64: <tf.Tensor 'strided_slice_1:0' shape=(1, 2, 2) dtype=float64>"
     ]
    }
   ],
   "source": [
    "# Estimate the parameters\n",
    "result = qctrl.functions.calculate_optimization(\n",
    "    cost_node_name=\"cost\",\n",
    "    output_node_names=[\"nu\", \"i\", \"q\", \"hessian\"],\n",
    "    optimization_count=10,\n",
    "    graph=graph,\n",
    ")\n",
    "\n",
    "estimated_nu = result.output[\"nu\"][\"value\"][0]\n",
    "estimated_i = result.output[\"i\"][\"value\"][0]\n",
    "estimated_q = result.output[\"q\"][\"value\"][0]\n",
    "\n",
    "# Calculate 2-sigma uncertainties (error bars give 95% precision)\n",
    "hessian = result.output[\"hessian\"][\"value\"]\n",
    "uncertainties = 2.0 * np.sqrt(np.diag(np.linalg.inv(hessian)))\n",
    "uncertainty_nu, uncertainty_i, uncertainty_q = uncertainties\n"
   ]
  },
  {
   "cell_type": "code",
   "execution_count": null,
   "metadata": {},
   "outputs": [],
   "source": []
  }
 ],
 "metadata": {
  "kernelspec": {
   "display_name": "Python 3",
   "language": "python",
   "name": "python3"
  },
  "language_info": {
   "codemirror_mode": {
    "name": "ipython",
    "version": 3
   },
   "file_extension": ".py",
   "mimetype": "text/x-python",
   "name": "python",
   "nbconvert_exporter": "python",
   "pygments_lexer": "ipython3",
   "version": "3.7.6"
  }
 },
 "nbformat": 4,
 "nbformat_minor": 4
}
