{
 "cells": [
  {
   "cell_type": "code",
   "execution_count": 1,
   "metadata": {},
   "outputs": [],
   "source": [
    "import matplotlib.pyplot as plt\n",
    "import numpy as np\n",
    "from qctrlvisualizer import get_qctrl_style\n",
    "from scipy.linalg import expm\n",
    "\n",
    "from qctrl import Qctrl\n",
    "\n",
    "plt.style.use(get_qctrl_style())\n",
    "\n",
    "# Define standard matrices\n",
    "sigma_x = np.array([[0, 1], [1, 0]], dtype=np.complex)\n",
    "sigma_y = np.array([[0, -1j], [1j, 0]], dtype=np.complex)\n",
    "sigma_z = np.array([[1, 0], [0, -1]], dtype=np.complex)\n",
    "\n",
    "# Start a session with the API\n",
    "qctrl = Qctrl()"
   ]
  },
  {
   "cell_type": "code",
   "execution_count": 28,
   "metadata": {},
   "outputs": [],
   "source": [
    "# Define parameters to be estimated\n",
    "# actual_sigma = 300e-9  # s\n",
    "# actual_mu = 100e-9  # s\n",
    "actual_a = 1.7\n",
    "# actual_b = -0.5\n",
    "\n",
    "actual_omega = 0"
   ]
  },
  {
   "cell_type": "code",
   "execution_count": 11,
   "metadata": {},
   "outputs": [],
   "source": [
    "total_duration = 1000e-9  # s\n",
    "\n",
    "# Define parameters of the Gaussian pulses to probe the filter\n",
    "max_width = total_duration / 6.0\n",
    "mean_values = np.linspace(max_width, total_duration - max_width, 6)\n",
    "width_values = np.linspace(max_width / 8.0, max_width / 2.0, 4)\n",
    "\n",
    "# Define sampled times\n",
    "segments = 150\n",
    "t_values = np.linspace(0.0, total_duration, segments + 1)"
   ]
  },
  {
   "cell_type": "code",
   "execution_count": 18,
   "metadata": {},
   "outputs": [],
   "source": [
    "def population(pulse_widths, pulse_means, filter_omega, values=np.array([np.pi])):\n",
    "    \"\"\"\n",
    "    Calculates the transfer probability between states |0> and |1> for a\n",
    "    batch of Gaussian pulses with given widths and means, while applying\n",
    "    a Gaussian filter to the pulses with a given cutoff frequency and offset.\n",
    "    \"\"\"\n",
    "\n",
    "    def gaussian_pulse(t, mean, width):\n",
    "        return np.exp(-0.5 * ((t - mean) / width) ** 2.0) * np.sqrt(\n",
    "            0.5 * np.pi / width ** 2.0\n",
    "        )\n",
    "\n",
    "    with qctrl.create_graph() as graph:\n",
    "        alpha = qctrl.operations.pwc_signal(\n",
    "            gaussian_pulse(\n",
    "                t_values[None, None, :],\n",
    "                pulse_means[None, :, None],\n",
    "                pulse_widths[:, None, None],\n",
    "            ),\n",
    "            total_duration,\n",
    "        )\n",
    "\n",
    "        # Create time dependent \\Omega(t)\n",
    "        drive = qctrl.operations.pwc_signal(duration=total_duration, values=values)\n",
    "\n",
    "        shift = qctrl.operations.stf_operator(\n",
    "            signal=drive,\n",
    "            operator=0.5 * sigma_x,\n",
    "        )\n",
    "\n",
    "        b = np.array([[0, 1], [0, 0]])  # Lowering operator\n",
    "\n",
    "#         # Construct Hamiltonian (\\Omega(t) b + \\Omega^*(t) b^\\dagger)/2\n",
    "#         hamiltonian = qctrl.operations.pwc_operator_hermitian_part(\n",
    "#             qctrl.operations.pwc_operator(signal=drive, operator=b)\n",
    "#         )\n",
    "\n",
    "        population = 1.0 - qctrl.operations.infidelity_stf(\n",
    "            sample_times=t_values,\n",
    "            hamiltonian=shift,\n",
    "            target_operator=qctrl.operations.target(b),\n",
    "        )\n",
    "        population.name = \"populations\"\n",
    "\n",
    "    graph_result = qctrl.functions.calculate_graph(\n",
    "        graph=graph,\n",
    "        output_node_names=[\"populations\"],\n",
    "    )\n",
    "    return graph_result.output[\"populations\"][\"value\"]"
   ]
  },
  {
   "cell_type": "code",
   "execution_count": 19,
   "metadata": {},
   "outputs": [
    {
     "ename": "QctrlArgumentsValueError",
     "evalue": "The signal must be an Stf.\nsignal=TensorPwcNodeData(operation=<qctrlcommons.node.wrapper.Operation object at 0x7fdb00825c50>, values_shape=(), durations=array([1.e-06]), batch_shape=())",
     "output_type": "error",
     "traceback": [
      "\u001b[0;31m---------------------------------------------------------------------------\u001b[0m",
      "\u001b[0;31mQctrlArgumentsValueError\u001b[0m                  Traceback (most recent call last)",
      "\u001b[0;32m<ipython-input-19-4611bc15c7fb>\u001b[0m in \u001b[0;36m<module>\u001b[0;34m\u001b[0m\n\u001b[1;32m      2\u001b[0m     \u001b[0mpulse_widths\u001b[0m\u001b[0;34m=\u001b[0m\u001b[0mwidth_values\u001b[0m\u001b[0;34m,\u001b[0m\u001b[0;34m\u001b[0m\u001b[0;34m\u001b[0m\u001b[0m\n\u001b[1;32m      3\u001b[0m     \u001b[0mpulse_means\u001b[0m\u001b[0;34m=\u001b[0m\u001b[0mmean_values\u001b[0m\u001b[0;34m,\u001b[0m\u001b[0;34m\u001b[0m\u001b[0;34m\u001b[0m\u001b[0m\n\u001b[0;32m----> 4\u001b[0;31m     \u001b[0mfilter_omega\u001b[0m\u001b[0;34m=\u001b[0m\u001b[0mactual_omega\u001b[0m\u001b[0;34m\u001b[0m\u001b[0;34m\u001b[0m\u001b[0m\n\u001b[0m\u001b[1;32m      5\u001b[0m )\n",
      "\u001b[0;32m<ipython-input-18-5048f68d008e>\u001b[0m in \u001b[0;36mpopulation\u001b[0;34m(pulse_widths, pulse_means, filter_omega, values)\u001b[0m\n\u001b[1;32m     26\u001b[0m         shift = qctrl.operations.stf_operator(\n\u001b[1;32m     27\u001b[0m             \u001b[0msignal\u001b[0m\u001b[0;34m=\u001b[0m\u001b[0mdrive\u001b[0m\u001b[0;34m,\u001b[0m\u001b[0;34m\u001b[0m\u001b[0;34m\u001b[0m\u001b[0m\n\u001b[0;32m---> 28\u001b[0;31m             \u001b[0moperator\u001b[0m\u001b[0;34m=\u001b[0m\u001b[0;36m0.5\u001b[0m \u001b[0;34m*\u001b[0m \u001b[0msigma_x\u001b[0m\u001b[0;34m,\u001b[0m\u001b[0;34m\u001b[0m\u001b[0;34m\u001b[0m\u001b[0m\n\u001b[0m\u001b[1;32m     29\u001b[0m         )\n\u001b[1;32m     30\u001b[0m \u001b[0;34m\u001b[0m\u001b[0m\n",
      "\u001b[0;32m/opt/conda/lib/python3.7/site-packages/forge/_revision.py\u001b[0m in \u001b[0;36minner\u001b[0;34m(*args, **kwargs)\u001b[0m\n\u001b[1;32m    326\u001b[0m                 \u001b[0;31m# pylint: disable=E1102, not-callable\u001b[0m\u001b[0;34m\u001b[0m\u001b[0;34m\u001b[0m\u001b[0;34m\u001b[0m\u001b[0m\n\u001b[1;32m    327\u001b[0m                 \u001b[0mmapped\u001b[0m \u001b[0;34m=\u001b[0m \u001b[0minner\u001b[0m\u001b[0;34m.\u001b[0m\u001b[0m__mapper__\u001b[0m\u001b[0;34m(\u001b[0m\u001b[0;34m*\u001b[0m\u001b[0margs\u001b[0m\u001b[0;34m,\u001b[0m \u001b[0;34m**\u001b[0m\u001b[0mkwargs\u001b[0m\u001b[0;34m)\u001b[0m\u001b[0;34m\u001b[0m\u001b[0;34m\u001b[0m\u001b[0m\n\u001b[0;32m--> 328\u001b[0;31m                 \u001b[0;32mreturn\u001b[0m \u001b[0mcallable\u001b[0m\u001b[0;34m(\u001b[0m\u001b[0;34m*\u001b[0m\u001b[0mmapped\u001b[0m\u001b[0;34m.\u001b[0m\u001b[0margs\u001b[0m\u001b[0;34m,\u001b[0m \u001b[0;34m**\u001b[0m\u001b[0mmapped\u001b[0m\u001b[0;34m.\u001b[0m\u001b[0mkwargs\u001b[0m\u001b[0;34m)\u001b[0m\u001b[0;34m\u001b[0m\u001b[0;34m\u001b[0m\u001b[0m\n\u001b[0m\u001b[1;32m    329\u001b[0m \u001b[0;34m\u001b[0m\u001b[0m\n\u001b[1;32m    330\u001b[0m         \u001b[0mnext_\u001b[0m\u001b[0;34m.\u001b[0m\u001b[0mvalidate\u001b[0m\u001b[0;34m(\u001b[0m\u001b[0;34m)\u001b[0m\u001b[0;34m\u001b[0m\u001b[0;34m\u001b[0m\u001b[0m\n",
      "\u001b[0;32m~/.local/lib/python3.7/site-packages/qctrlcommons/node/base.py\u001b[0m in \u001b[0;36mfunc\u001b[0;34m(name, **kwargs)\u001b[0m\n\u001b[1;32m     87\u001b[0m         \u001b[0;32mdef\u001b[0m \u001b[0mfunc\u001b[0m\u001b[0;34m(\u001b[0m\u001b[0mname\u001b[0m\u001b[0;34m=\u001b[0m\u001b[0;32mNone\u001b[0m\u001b[0;34m,\u001b[0m \u001b[0;34m**\u001b[0m\u001b[0mkwargs\u001b[0m\u001b[0;34m)\u001b[0m\u001b[0;34m:\u001b[0m\u001b[0;34m\u001b[0m\u001b[0;34m\u001b[0m\u001b[0m\n\u001b[1;32m     88\u001b[0m             \u001b[0moperation\u001b[0m \u001b[0;34m=\u001b[0m \u001b[0mOperation\u001b[0m\u001b[0;34m(\u001b[0m\u001b[0mcls\u001b[0m\u001b[0;34m.\u001b[0m\u001b[0mname\u001b[0m\u001b[0;34m,\u001b[0m \u001b[0mname\u001b[0m\u001b[0;34m=\u001b[0m\u001b[0mname\u001b[0m\u001b[0;34m,\u001b[0m \u001b[0;34m**\u001b[0m\u001b[0mkwargs\u001b[0m\u001b[0;34m)\u001b[0m\u001b[0;34m\u001b[0m\u001b[0;34m\u001b[0m\u001b[0m\n\u001b[0;32m---> 89\u001b[0;31m             \u001b[0;32mreturn\u001b[0m \u001b[0mcls\u001b[0m\u001b[0;34m.\u001b[0m\u001b[0mcreate_node_data\u001b[0m\u001b[0;34m(\u001b[0m\u001b[0m_operation\u001b[0m\u001b[0;34m=\u001b[0m\u001b[0moperation\u001b[0m\u001b[0;34m,\u001b[0m \u001b[0mname\u001b[0m\u001b[0;34m=\u001b[0m\u001b[0mname\u001b[0m\u001b[0;34m,\u001b[0m \u001b[0;34m**\u001b[0m\u001b[0mkwargs\u001b[0m\u001b[0;34m)\u001b[0m\u001b[0;34m\u001b[0m\u001b[0;34m\u001b[0m\u001b[0m\n\u001b[0m\u001b[1;32m     90\u001b[0m \u001b[0;34m\u001b[0m\u001b[0m\n\u001b[1;32m     91\u001b[0m         \u001b[0mfunc\u001b[0m\u001b[0;34m.\u001b[0m\u001b[0m__doc__\u001b[0m \u001b[0;34m=\u001b[0m \u001b[0mcls\u001b[0m\u001b[0;34m.\u001b[0m\u001b[0m__doc__\u001b[0m\u001b[0;34m\u001b[0m\u001b[0;34m\u001b[0m\u001b[0m\n",
      "\u001b[0;32m~/.local/lib/python3.7/site-packages/qctrlcommons/node/operator.py\u001b[0m in \u001b[0;36mcreate_node_data\u001b[0;34m(cls, _operation, **kwargs)\u001b[0m\n\u001b[1;32m    206\u001b[0m             \u001b[0misinstance\u001b[0m\u001b[0;34m(\u001b[0m\u001b[0msignal\u001b[0m\u001b[0;34m,\u001b[0m \u001b[0mStfNodeData\u001b[0m\u001b[0;34m)\u001b[0m\u001b[0;34m,\u001b[0m\u001b[0;34m\u001b[0m\u001b[0;34m\u001b[0m\u001b[0m\n\u001b[1;32m    207\u001b[0m             \u001b[0;34m\"The signal must be an Stf.\"\u001b[0m\u001b[0;34m,\u001b[0m\u001b[0;34m\u001b[0m\u001b[0;34m\u001b[0m\u001b[0m\n\u001b[0;32m--> 208\u001b[0;31m             \u001b[0;34m{\u001b[0m\u001b[0;34m\"signal\"\u001b[0m\u001b[0;34m:\u001b[0m \u001b[0msignal\u001b[0m\u001b[0;34m}\u001b[0m\u001b[0;34m,\u001b[0m\u001b[0;34m\u001b[0m\u001b[0;34m\u001b[0m\u001b[0m\n\u001b[0m\u001b[1;32m    209\u001b[0m         )\n\u001b[1;32m    210\u001b[0m         \u001b[0m_\u001b[0m\u001b[0;34m,\u001b[0m \u001b[0mbatch_shape\u001b[0m \u001b[0;34m=\u001b[0m \u001b[0mvalidate_values_and_batch_shape\u001b[0m\u001b[0;34m(\u001b[0m\u001b[0msignal\u001b[0m\u001b[0;34m,\u001b[0m \u001b[0;34m\"signal\"\u001b[0m\u001b[0;34m)\u001b[0m\u001b[0;34m\u001b[0m\u001b[0;34m\u001b[0m\u001b[0m\n",
      "\u001b[0;32m~/.local/lib/python3.7/site-packages/qctrlcommons/preconditions.py\u001b[0m in \u001b[0;36mcheck_argument\u001b[0;34m(condition, description, arguments, extras)\u001b[0m\n\u001b[1;32m     32\u001b[0m     \u001b[0;32mif\u001b[0m \u001b[0mcondition\u001b[0m\u001b[0;34m:\u001b[0m\u001b[0;34m\u001b[0m\u001b[0;34m\u001b[0m\u001b[0m\n\u001b[1;32m     33\u001b[0m         \u001b[0;32mreturn\u001b[0m\u001b[0;34m\u001b[0m\u001b[0;34m\u001b[0m\u001b[0m\n\u001b[0;32m---> 34\u001b[0;31m     \u001b[0;32mraise\u001b[0m \u001b[0mQctrlArgumentsValueError\u001b[0m\u001b[0;34m(\u001b[0m\u001b[0mdescription\u001b[0m\u001b[0;34m,\u001b[0m \u001b[0marguments\u001b[0m\u001b[0;34m,\u001b[0m \u001b[0mextras\u001b[0m\u001b[0;34m=\u001b[0m\u001b[0mextras\u001b[0m\u001b[0;34m)\u001b[0m\u001b[0;34m\u001b[0m\u001b[0;34m\u001b[0m\u001b[0m\n\u001b[0m\u001b[1;32m     35\u001b[0m \u001b[0;34m\u001b[0m\u001b[0m\n\u001b[1;32m     36\u001b[0m \u001b[0;34m\u001b[0m\u001b[0m\n",
      "\u001b[0;31mQctrlArgumentsValueError\u001b[0m: The signal must be an Stf.\nsignal=TensorPwcNodeData(operation=<qctrlcommons.node.wrapper.Operation object at 0x7fdb00825c50>, values_shape=(), durations=array([1.e-06]), batch_shape=())"
     ]
    }
   ],
   "source": [
    "populations = population(\n",
    "    pulse_widths=width_values,\n",
    "    pulse_means=mean_values,\n",
    "    filter_omega=actual_omega\n",
    ")"
   ]
  },
  {
   "cell_type": "code",
   "execution_count": 25,
   "metadata": {},
   "outputs": [],
   "source": [
    "def population_simple(values=np.array([np.pi]), repetitions=1, duration=total_duration):\n",
    "    b = np.array([[0, 1], [0, 0]])  # Lowering operator\n",
    "    initial_state = np.array([[1], [0]])  # Initial state of qubit in |0>\n",
    "\n",
    "    with qctrl.create_graph() as graph:\n",
    "\n",
    "        # Create time dependent \\Omega(t)\n",
    "        drive = qctrl.operations.pwc_signal(duration=duration, values=values)\n",
    "\n",
    "        # Construct Hamiltonian (\\Omega(t) b + \\Omega^*(t) b^\\dagger)/2\n",
    "        hamiltonian = qctrl.operations.pwc_operator_hermitian_part(\n",
    "            qctrl.operations.pwc_operator(signal=drive, operator=b)\n",
    "        )\n",
    "\n",
    "        # Solve Schrodinger's equation and get total unitary at the end\n",
    "        unitary = qctrl.operations.time_evolution_operators_pwc(\n",
    "            hamiltonian=hamiltonian,\n",
    "            sample_times=np.array([duration]),\n",
    "        )[-1]\n",
    "        unitary.name = \"unitary\"\n",
    "\n",
    "        # Repeat final unitary\n",
    "        repeated_unitary = np.eye(2)\n",
    "        for _ in range(repetitions):\n",
    "            repeated_unitary = repeated_unitary @ unitary\n",
    "        repeated_unitary.name = \"repeated_unitary\"\n",
    "\n",
    "        # Calculate final state.\n",
    "        state = repeated_unitary @ initial_state\n",
    "\n",
    "        # Calculate final populations.\n",
    "        populations = qctrl.operations.abs(state[:, 0]) ** 2\n",
    "        # Normalize populations because of numerical precision\n",
    "        norm = qctrl.operations.sum(populations)\n",
    "        populations = populations / norm\n",
    "        populations.name = \"populations\"\n",
    "\n",
    "    # Evaluate graph.\n",
    "    result = qctrl.functions.calculate_graph(\n",
    "        graph=graph,\n",
    "        output_node_names=[\"unitary\", \"repeated_unitary\", \"populations\"],\n",
    "    )\n",
    "\n",
    "    # Extract outputs.\n",
    "    return result.output[\"populations\"][\"value\"]"
   ]
  },
  {
   "cell_type": "code",
   "execution_count": 26,
   "metadata": {},
   "outputs": [
    {
     "data": {
      "application/vnd.jupyter.widget-view+json": {
       "model_id": "",
       "version_major": 2,
       "version_minor": 0
      },
      "text/plain": [
       "HBox(children=(FloatProgress(value=0.0), HTML(value='')))"
      ]
     },
     "metadata": {},
     "output_type": "display_data"
    },
    {
     "name": "stdout",
     "output_type": "stream",
     "text": [
      "Your task calculate_graph has completed in 3s.\n"
     ]
    }
   ],
   "source": [
    "populations = population_simple()"
   ]
  },
  {
   "cell_type": "code",
   "execution_count": 29,
   "metadata": {},
   "outputs": [],
   "source": [
    "# Create measurement results with some uncertainty associated to them,\n",
    "# we will estimate the standard deviation of this error as 1% of the population\n",
    "population_errors = 0.01 * np.ones_like(populations)\n",
    "\n",
    "measurement_results = (\n",
    "    actual_a * np.random.normal(loc=populations, scale=population_errors) + actual_b\n",
    ")\n",
    "\n",
    "# Rescale error to arbitrary units\n",
    "measurement_errors = np.abs(actual_a) * population_errors"
   ]
  },
  {
   "cell_type": "code",
   "execution_count": 30,
   "metadata": {},
   "outputs": [
    {
     "ename": "AssertionError",
     "evalue": "",
     "output_type": "error",
     "traceback": [
      "\u001b[0;31m---------------------------------------------------------------------------\u001b[0m",
      "\u001b[0;31mAssertionError\u001b[0m                            Traceback (most recent call last)",
      "\u001b[0;32m<ipython-input-30-acf710a16682>\u001b[0m in \u001b[0;36m<module>\u001b[0;34m\u001b[0m\n\u001b[1;32m      9\u001b[0m         \u001b[0mmeasurement_results\u001b[0m\u001b[0;34m[\u001b[0m\u001b[0mn\u001b[0m\u001b[0;34m]\u001b[0m\u001b[0;34m,\u001b[0m\u001b[0;34m\u001b[0m\u001b[0;34m\u001b[0m\u001b[0m\n\u001b[1;32m     10\u001b[0m         \u001b[0myerr\u001b[0m\u001b[0;34m=\u001b[0m\u001b[0;36m2.0\u001b[0m \u001b[0;34m*\u001b[0m \u001b[0mmeasurement_errors\u001b[0m\u001b[0;34m[\u001b[0m\u001b[0mn\u001b[0m\u001b[0;34m]\u001b[0m\u001b[0;34m,\u001b[0m\u001b[0;34m\u001b[0m\u001b[0;34m\u001b[0m\u001b[0m\n\u001b[0;32m---> 11\u001b[0;31m         \u001b[0mfmt\u001b[0m\u001b[0;34m=\u001b[0m\u001b[0;34m\"s\"\u001b[0m\u001b[0;34m,\u001b[0m\u001b[0;34m\u001b[0m\u001b[0;34m\u001b[0m\u001b[0m\n\u001b[0m\u001b[1;32m     12\u001b[0m     )\n",
      "\u001b[0;32m/opt/conda/lib/python3.7/site-packages/matplotlib/__init__.py\u001b[0m in \u001b[0;36minner\u001b[0;34m(ax, data, *args, **kwargs)\u001b[0m\n\u001b[1;32m   1563\u001b[0m     \u001b[0;32mdef\u001b[0m \u001b[0minner\u001b[0m\u001b[0;34m(\u001b[0m\u001b[0max\u001b[0m\u001b[0;34m,\u001b[0m \u001b[0;34m*\u001b[0m\u001b[0margs\u001b[0m\u001b[0;34m,\u001b[0m \u001b[0mdata\u001b[0m\u001b[0;34m=\u001b[0m\u001b[0;32mNone\u001b[0m\u001b[0;34m,\u001b[0m \u001b[0;34m**\u001b[0m\u001b[0mkwargs\u001b[0m\u001b[0;34m)\u001b[0m\u001b[0;34m:\u001b[0m\u001b[0;34m\u001b[0m\u001b[0;34m\u001b[0m\u001b[0m\n\u001b[1;32m   1564\u001b[0m         \u001b[0;32mif\u001b[0m \u001b[0mdata\u001b[0m \u001b[0;32mis\u001b[0m \u001b[0;32mNone\u001b[0m\u001b[0;34m:\u001b[0m\u001b[0;34m\u001b[0m\u001b[0;34m\u001b[0m\u001b[0m\n\u001b[0;32m-> 1565\u001b[0;31m             \u001b[0;32mreturn\u001b[0m \u001b[0mfunc\u001b[0m\u001b[0;34m(\u001b[0m\u001b[0max\u001b[0m\u001b[0;34m,\u001b[0m \u001b[0;34m*\u001b[0m\u001b[0mmap\u001b[0m\u001b[0;34m(\u001b[0m\u001b[0msanitize_sequence\u001b[0m\u001b[0;34m,\u001b[0m \u001b[0margs\u001b[0m\u001b[0;34m)\u001b[0m\u001b[0;34m,\u001b[0m \u001b[0;34m**\u001b[0m\u001b[0mkwargs\u001b[0m\u001b[0;34m)\u001b[0m\u001b[0;34m\u001b[0m\u001b[0;34m\u001b[0m\u001b[0m\n\u001b[0m\u001b[1;32m   1566\u001b[0m \u001b[0;34m\u001b[0m\u001b[0m\n\u001b[1;32m   1567\u001b[0m         \u001b[0mbound\u001b[0m \u001b[0;34m=\u001b[0m \u001b[0mnew_sig\u001b[0m\u001b[0;34m.\u001b[0m\u001b[0mbind\u001b[0m\u001b[0;34m(\u001b[0m\u001b[0max\u001b[0m\u001b[0;34m,\u001b[0m \u001b[0;34m*\u001b[0m\u001b[0margs\u001b[0m\u001b[0;34m,\u001b[0m \u001b[0;34m**\u001b[0m\u001b[0mkwargs\u001b[0m\u001b[0;34m)\u001b[0m\u001b[0;34m\u001b[0m\u001b[0;34m\u001b[0m\u001b[0m\n",
      "\u001b[0;32m/opt/conda/lib/python3.7/site-packages/matplotlib/axes/_axes.py\u001b[0m in \u001b[0;36merrorbar\u001b[0;34m(self, x, y, yerr, xerr, fmt, ecolor, elinewidth, capsize, barsabove, lolims, uplims, xlolims, xuplims, errorevery, capthick, **kwargs)\u001b[0m\n\u001b[1;32m   3380\u001b[0m             \u001b[0mnoylims\u001b[0m \u001b[0;34m=\u001b[0m \u001b[0;34m~\u001b[0m\u001b[0;34m(\u001b[0m\u001b[0mlolims\u001b[0m \u001b[0;34m|\u001b[0m \u001b[0muplims\u001b[0m\u001b[0;34m)\u001b[0m\u001b[0;34m\u001b[0m\u001b[0;34m\u001b[0m\u001b[0m\n\u001b[1;32m   3381\u001b[0m             \u001b[0;32mif\u001b[0m \u001b[0mnoylims\u001b[0m\u001b[0;34m.\u001b[0m\u001b[0many\u001b[0m\u001b[0;34m(\u001b[0m\u001b[0;34m)\u001b[0m \u001b[0;32mor\u001b[0m \u001b[0mlen\u001b[0m\u001b[0;34m(\u001b[0m\u001b[0mnoylims\u001b[0m\u001b[0;34m)\u001b[0m \u001b[0;34m==\u001b[0m \u001b[0;36m0\u001b[0m\u001b[0;34m:\u001b[0m\u001b[0;34m\u001b[0m\u001b[0;34m\u001b[0m\u001b[0m\n\u001b[0;32m-> 3382\u001b[0;31m                 \u001b[0mxo\u001b[0m\u001b[0;34m,\u001b[0m \u001b[0m_\u001b[0m \u001b[0;34m=\u001b[0m \u001b[0mxywhere\u001b[0m\u001b[0;34m(\u001b[0m\u001b[0mx\u001b[0m\u001b[0;34m,\u001b[0m \u001b[0mlower\u001b[0m\u001b[0;34m,\u001b[0m \u001b[0mnoylims\u001b[0m \u001b[0;34m&\u001b[0m \u001b[0meverymask\u001b[0m\u001b[0;34m)\u001b[0m\u001b[0;34m\u001b[0m\u001b[0;34m\u001b[0m\u001b[0m\n\u001b[0m\u001b[1;32m   3383\u001b[0m                 \u001b[0mlo\u001b[0m\u001b[0;34m,\u001b[0m \u001b[0muo\u001b[0m \u001b[0;34m=\u001b[0m \u001b[0mxywhere\u001b[0m\u001b[0;34m(\u001b[0m\u001b[0mlower\u001b[0m\u001b[0;34m,\u001b[0m \u001b[0mupper\u001b[0m\u001b[0;34m,\u001b[0m \u001b[0mnoylims\u001b[0m \u001b[0;34m&\u001b[0m \u001b[0meverymask\u001b[0m\u001b[0;34m)\u001b[0m\u001b[0;34m\u001b[0m\u001b[0;34m\u001b[0m\u001b[0m\n\u001b[1;32m   3384\u001b[0m                 \u001b[0mbarcols\u001b[0m\u001b[0;34m.\u001b[0m\u001b[0mappend\u001b[0m\u001b[0;34m(\u001b[0m\u001b[0mself\u001b[0m\u001b[0;34m.\u001b[0m\u001b[0mvlines\u001b[0m\u001b[0;34m(\u001b[0m\u001b[0mxo\u001b[0m\u001b[0;34m,\u001b[0m \u001b[0mlo\u001b[0m\u001b[0;34m,\u001b[0m \u001b[0muo\u001b[0m\u001b[0;34m,\u001b[0m \u001b[0;34m**\u001b[0m\u001b[0meb_lines_style\u001b[0m\u001b[0;34m)\u001b[0m\u001b[0;34m)\u001b[0m\u001b[0;34m\u001b[0m\u001b[0;34m\u001b[0m\u001b[0m\n",
      "\u001b[0;32m/opt/conda/lib/python3.7/site-packages/matplotlib/axes/_axes.py\u001b[0m in \u001b[0;36mxywhere\u001b[0;34m(xs, ys, mask)\u001b[0m\n\u001b[1;32m   3283\u001b[0m             \u001b[0mys\u001b[0m \u001b[0mare\u001b[0m \u001b[0;32mnot\u001b[0m \u001b[0marrays\u001b[0m\u001b[0;34m\u001b[0m\u001b[0;34m\u001b[0m\u001b[0m\n\u001b[1;32m   3284\u001b[0m             \"\"\"\n\u001b[0;32m-> 3285\u001b[0;31m             \u001b[0;32massert\u001b[0m \u001b[0mlen\u001b[0m\u001b[0;34m(\u001b[0m\u001b[0mxs\u001b[0m\u001b[0;34m)\u001b[0m \u001b[0;34m==\u001b[0m \u001b[0mlen\u001b[0m\u001b[0;34m(\u001b[0m\u001b[0mys\u001b[0m\u001b[0;34m)\u001b[0m\u001b[0;34m\u001b[0m\u001b[0;34m\u001b[0m\u001b[0m\n\u001b[0m\u001b[1;32m   3286\u001b[0m             \u001b[0;32massert\u001b[0m \u001b[0mlen\u001b[0m\u001b[0;34m(\u001b[0m\u001b[0mxs\u001b[0m\u001b[0;34m)\u001b[0m \u001b[0;34m==\u001b[0m \u001b[0mlen\u001b[0m\u001b[0;34m(\u001b[0m\u001b[0mmask\u001b[0m\u001b[0;34m)\u001b[0m\u001b[0;34m\u001b[0m\u001b[0;34m\u001b[0m\u001b[0m\n\u001b[1;32m   3287\u001b[0m             \u001b[0mxs\u001b[0m \u001b[0;34m=\u001b[0m \u001b[0;34m[\u001b[0m\u001b[0mthisx\u001b[0m \u001b[0;32mfor\u001b[0m \u001b[0mthisx\u001b[0m\u001b[0;34m,\u001b[0m \u001b[0mb\u001b[0m \u001b[0;32min\u001b[0m \u001b[0mzip\u001b[0m\u001b[0;34m(\u001b[0m\u001b[0mxs\u001b[0m\u001b[0;34m,\u001b[0m \u001b[0mmask\u001b[0m\u001b[0;34m)\u001b[0m \u001b[0;32mif\u001b[0m \u001b[0mb\u001b[0m\u001b[0;34m]\u001b[0m\u001b[0;34m\u001b[0m\u001b[0;34m\u001b[0m\u001b[0m\n",
      "\u001b[0;31mAssertionError\u001b[0m: "
     ]
    },
    {
     "data": {
      "image/png": "[encoded data removed]",
      "text/plain": [
       "<Figure size 1152x288 with 4 Axes>"
      ]
     },
     "metadata": {
      "needs_background": "light"
     },
     "output_type": "display_data"
    }
   ],
   "source": [
    "# Plot inputs\n",
    "fig, axs = plt.subplots(1, 4, figsize=(16, 4))\n",
    "axs[0].set_ylabel(\"Measured values, M (a.u.)\")\n",
    "for n in range(len(width_values)):\n",
    "    axs[n].set_title(f\"Pulses with width {width_values[n] * 1e6:.2f} µs\")\n",
    "    axs[n].set_xlabel(\"Pulse center (µs)\")\n",
    "    axs[n].errorbar(\n",
    "        mean_values * 1e6,\n",
    "        measurement_results[n],\n",
    "        yerr=2.0 * measurement_errors[n],\n",
    "        fmt=\"s\",\n",
    "    )"
   ]
  },
  {
   "cell_type": "code",
   "execution_count": 32,
   "metadata": {},
   "outputs": [
    {
     "data": {
      "text/plain": [
       "2"
      ]
     },
     "execution_count": 32,
     "metadata": {},
     "output_type": "execute_result"
    }
   ],
   "source": [
    "len(measurement_results)"
   ]
  },
  {
   "cell_type": "code",
   "execution_count": 34,
   "metadata": {},
   "outputs": [
    {
     "data": {
      "text/plain": [
       "array([1.0000000e+00, 2.4674011e-12])"
      ]
     },
     "execution_count": 34,
     "metadata": {},
     "output_type": "execute_result"
    }
   ],
   "source": [
    "populations"
   ]
  },
  {
   "cell_type": "code",
   "execution_count": null,
   "metadata": {},
   "outputs": [],
   "source": []
  }
 ],
 "metadata": {
  "kernelspec": {
   "display_name": "Python 3",
   "language": "python",
   "name": "python3"
  },
  "language_info": {
   "codemirror_mode": {
    "name": "ipython",
    "version": 3
   },
   "file_extension": ".py",
   "mimetype": "text/x-python",
   "name": "python",
   "nbconvert_exporter": "python",
   "pygments_lexer": "ipython3",
   "version": "3.7.6"
  }
 },
 "nbformat": 4,
 "nbformat_minor": 4
}
