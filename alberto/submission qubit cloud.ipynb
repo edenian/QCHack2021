{
 "cells": [
  {
   "cell_type": "code",
   "execution_count": 29,
   "id": "billion-state",
   "metadata": {},
   "outputs": [],
   "source": [
    "import matplotlib.pyplot as plt\n",
    "import numpy as np\n",
    "\n",
    "from qctrlvisualizer import get_qctrl_style, plot_controls\n",
    "from qctrl import Qctrl\n",
    "\n",
    "qctrl = Qctrl()"
   ]
  },
  {
   "cell_type": "code",
   "execution_count": 30,
   "id": "rubber-reliance",
   "metadata": {},
   "outputs": [],
   "source": [
    "max_rabi_rate = 20 * 2 * np.pi  # MHz"
   ]
  },
  {
   "cell_type": "code",
   "execution_count": 31,
   "id": "later-canyon",
   "metadata": {},
   "outputs": [],
   "source": [
    "control_count = 5\n",
    "segment_count = 8\n",
    "duration = np.pi / (max_rabi_rate)\n",
    "shot_count = 32"
   ]
  },
  {
   "cell_type": "code",
   "execution_count": 42,
   "id": "painful-parts",
   "metadata": {},
   "outputs": [
    {
     "name": "stdout",
     "output_type": "stream",
     "text": [
      "[{'duration': 0.025, 'values': array([0.+0.j, 0.+0.j, 0.+0.j, 0.+0.j, 0.+0.j, 0.+0.j, 0.+0.j, 0.+0.j])}]\n",
      "[{'duration': 0.025, 'values': array([0.+0.j, 0.+0.j, 0.+0.j, 0.+0.j, 0.+0.j, 0.+0.j, 0.+0.j, 0.+0.j])}, {'duration': 0.025, 'values': array([0.06207156+0.00125199j, 0.05696168+0.09301704j,\n",
      "       0.00887464+0.00166093j, 0.05630521+0.07267529j,\n",
      "       0.01737938+0.05729913j, 0.04410908+0.04465947j,\n",
      "       0.08849035+0.02983849j, 0.02880004+0.08150496j])}]\n",
      "[{'duration': 0.025, 'values': array([0.+0.j, 0.+0.j, 0.+0.j, 0.+0.j, 0.+0.j, 0.+0.j, 0.+0.j, 0.+0.j])}, {'duration': 0.025, 'values': array([0.06207156+0.00125199j, 0.05696168+0.09301704j,\n",
      "       0.00887464+0.00166093j, 0.05630521+0.07267529j,\n",
      "       0.01737938+0.05729913j, 0.04410908+0.04465947j,\n",
      "       0.08849035+0.02983849j, 0.02880004+0.08150496j])}, {'duration': 0.025, 'values': array([0.08220626+0.0590653j , 0.06019007+0.04092483j,\n",
      "       0.18094085+0.00301916j, 0.00850237+0.1450092j ,\n",
      "       0.06281302+0.07550378j, 0.13093968+0.18443812j,\n",
      "       0.19152035+0.19830353j, 0.19795699+0.13245788j])}]\n",
      "[{'duration': 0.025, 'values': array([0.+0.j, 0.+0.j, 0.+0.j, 0.+0.j, 0.+0.j, 0.+0.j, 0.+0.j, 0.+0.j])}, {'duration': 0.025, 'values': array([0.06207156+0.00125199j, 0.05696168+0.09301704j,\n",
      "       0.00887464+0.00166093j, 0.05630521+0.07267529j,\n",
      "       0.01737938+0.05729913j, 0.04410908+0.04465947j,\n",
      "       0.08849035+0.02983849j, 0.02880004+0.08150496j])}, {'duration': 0.025, 'values': array([0.08220626+0.0590653j , 0.06019007+0.04092483j,\n",
      "       0.18094085+0.00301916j, 0.00850237+0.1450092j ,\n",
      "       0.06281302+0.07550378j, 0.13093968+0.18443812j,\n",
      "       0.19152035+0.19830353j, 0.19795699+0.13245788j])}, {'duration': 0.025, 'values': array([0.2222408 +0.21185371j, 0.08683602+0.05322874j,\n",
      "       0.15746965+0.08756823j, 0.22104356+0.05054512j,\n",
      "       0.07302743+0.06282721j, 0.04541236+0.01582569j,\n",
      "       0.06137828+0.09586383j, 0.2735838 +0.19446878j])}]\n",
      "[{'duration': 0.025, 'values': array([0.+0.j, 0.+0.j, 0.+0.j, 0.+0.j, 0.+0.j, 0.+0.j, 0.+0.j, 0.+0.j])}, {'duration': 0.025, 'values': array([0.06207156+0.00125199j, 0.05696168+0.09301704j,\n",
      "       0.00887464+0.00166093j, 0.05630521+0.07267529j,\n",
      "       0.01737938+0.05729913j, 0.04410908+0.04465947j,\n",
      "       0.08849035+0.02983849j, 0.02880004+0.08150496j])}, {'duration': 0.025, 'values': array([0.08220626+0.0590653j , 0.06019007+0.04092483j,\n",
      "       0.18094085+0.00301916j, 0.00850237+0.1450092j ,\n",
      "       0.06281302+0.07550378j, 0.13093968+0.18443812j,\n",
      "       0.19152035+0.19830353j, 0.19795699+0.13245788j])}, {'duration': 0.025, 'values': array([0.2222408 +0.21185371j, 0.08683602+0.05322874j,\n",
      "       0.15746965+0.08756823j, 0.22104356+0.05054512j,\n",
      "       0.07302743+0.06282721j, 0.04541236+0.01582569j,\n",
      "       0.06137828+0.09586383j, 0.2735838 +0.19446878j])}, {'duration': 0.025, 'values': array([0.2774631 +0.19184654j, 0.39237499+0.11015529j,\n",
      "       0.1922214 +0.27994968j, 0.11794706+0.22292741j,\n",
      "       0.09904445+0.0040614j , 0.12629322+0.25504758j,\n",
      "       0.21664126+0.36328172j, 0.15590402+0.34533553j])}]\n"
     ]
    },
    {
     "data": {
      "image/png": "[encoded data removed]",
      "text/plain": [
       "<Figure size 504x288 with 2 Axes>"
      ]
     },
     "metadata": {
      "needs_background": "light"
     },
     "output_type": "display_data"
    }
   ],
   "source": [
    "controls = []\n",
    "for k in range(control_count):\n",
    "    # Create a random string of complex numbers for each controls.\n",
    "    real_part = np.random.random(size=[segment_count])\n",
    "    imag_part = np.random.random(size=[segment_count])\n",
    "    values = 0.1 * k * (real_part + 1j * imag_part)\n",
    "\n",
    "    controls.append({\"duration\": duration, \"values\": values})\n",
    "    print(controls)\n",
    "# Plot the last control as an example.\n",
    "plot_controls(\n",
    "    figure=plt.figure(),\n",
    "    controls={\n",
    "        \"$\\Omega$\": [\n",
    "            {\"duration\": duration / segment_count, \"value\": value} for value in values\n",
    "        ]\n",
    "    },\n",
    ")"
   ]
  },
  {
   "cell_type": "code",
   "execution_count": 38,
   "id": "defensive-velvet",
   "metadata": {},
   "outputs": [
    {
     "data": {
      "application/vnd.jupyter.widget-view+json": {
       "model_id": "",
       "version_major": 2,
       "version_minor": 0
      },
      "text/plain": [
       "  0%|          | 0/100 [00:00<?, ?it/s]"
      ]
     },
     "metadata": {},
     "output_type": "display_data"
    },
    {
     "name": "stdout",
     "output_type": "stream",
     "text": [
      "Your task calculate_qchack_measurements has completed in 3s.\n"
     ]
    }
   ],
   "source": [
    "# Obtain the results of the experiment.\n",
    "experiment_results = qctrl.functions.calculate_qchack_measurements(\n",
    "    controls=controls,\n",
    "    shot_count=shot_count,\n",
    ")"
   ]
  },
  {
   "cell_type": "code",
   "execution_count": 39,
   "id": "compliant-distinction",
   "metadata": {},
   "outputs": [
    {
     "name": "stdout",
     "output_type": "stream",
     "text": [
      "control #0: [0, 0, 0, 0, 0, 0, 0, 0, 0, 0, 0, 0, 0, 0, 0, 0, 0, 0, 0, 0, 0, 0, 1, 0, 0, 0, 0, 0, 0, 0, 0, 0]\n",
      "control #1: [0, 0, 0, 0, 0, 0, 0, 0, 0, 0, 0, 0, 0, 0, 0, 0, 0, 0, 1, 0, 0, 0, 0, 0, 0, 0, 0, 0, 0, 0, 0, 0]\n",
      "control #2: [0, 0, 0, 0, 0, 0, 0, 0, 0, 0, 0, 0, 0, 0, 0, 0, 0, 0, 0, 0, 0, 0, 0, 0, 0, 0, 0, 0, 0, 0, 0, 0]\n",
      "control #3: [0, 0, 0, 0, 0, 0, 0, 0, 0, 0, 0, 0, 0, 0, 0, 0, 0, 0, 0, 0, 0, 0, 0, 0, 0, 0, 0, 0, 0, 0, 0, 0]\n",
      "control #4: [0, 0, 0, 0, 0, 0, 0, 0, 0, 0, 0, 0, 0, 0, 0, 0, 0, 0, 0, 0, 0, 0, 0, 0, 0, 0, 0, 0, 0, 0, 0, 0]\n"
     ]
    }
   ],
   "source": [
    "measurements = experiment_results.measurements\n",
    "for k, measurement_counts in enumerate(measurements):\n",
    "    print(f\"control #{k}: {measurement_counts}\")"
   ]
  },
  {
   "cell_type": "code",
   "execution_count": 40,
   "id": "immune-brave",
   "metadata": {},
   "outputs": [
    {
     "name": "stdout",
     "output_type": "stream",
     "text": [
      "control #0: P(|0>) = 0.97, P(|1>) = 0.03, P(|2>) = 0.00\n",
      "control #1: P(|0>) = 0.97, P(|1>) = 0.03, P(|2>) = 0.00\n",
      "control #2: P(|0>) = 1.00, P(|1>) = 0.00, P(|2>) = 0.00\n",
      "control #3: P(|0>) = 1.00, P(|1>) = 0.00, P(|2>) = 0.00\n",
      "control #4: P(|0>) = 1.00, P(|1>) = 0.00, P(|2>) = 0.00\n"
     ]
    }
   ],
   "source": [
    "for k, measurement_counts in enumerate(measurements):\n",
    "    p0 = measurement_counts.count(0) / shot_count\n",
    "    p1 = measurement_counts.count(1) / shot_count\n",
    "    p2 = measurement_counts.count(2) / shot_count\n",
    "    print(f\"control #{k}: P(|0>) = {p0:.2f}, P(|1>) = {p1:.2f}, P(|2>) = {p2:.2f}\")"
   ]
  },
  {
   "cell_type": "code",
   "execution_count": 41,
   "id": "promotional-headset",
   "metadata": {},
   "outputs": [
    {
     "data": {
      "application/vnd.jupyter.widget-view+json": {
       "model_id": "",
       "version_major": 2,
       "version_minor": 0
      },
      "text/plain": [
       "  0%|          | 0/100 [00:00<?, ?it/s]"
      ]
     },
     "metadata": {},
     "output_type": "display_data"
    },
    {
     "name": "stdout",
     "output_type": "stream",
     "text": [
      "Your task calculate_qchack_measurements has completed in 3s.\n",
      "With  1 repetitions: P(|0>) = 1.00, P(|1>) = 0.00, P(|2>) = 0.00\n",
      "With  4 repetitions: P(|0>) = 1.00, P(|1>) = 0.00, P(|2>) = 0.00\n",
      "With 16 repetitions: P(|0>) = 0.97, P(|1>) = 0.03, P(|2>) = 0.00\n",
      "With 32 repetitions: P(|0>) = 1.00, P(|1>) = 0.00, P(|2>) = 0.00\n",
      "With 64 repetitions: P(|0>) = 1.00, P(|1>) = 0.00, P(|2>) = 0.00\n"
     ]
    }
   ],
   "source": [
    "repetitions = [1, 4, 16, 32, 64]\n",
    "\n",
    "controls = []\n",
    "# Create a random string of complex numbers for all control,\n",
    "# but set a different repetition_count for each control.\n",
    "real_part = np.random.random(size=[segment_count])\n",
    "imag_part = np.random.random(size=[segment_count])\n",
    "values = 0.5 * (real_part + 1j * imag_part)\n",
    "\n",
    "for repetition_count in repetitions:\n",
    "    controls.append(\n",
    "        {\"duration\": duration, \"values\": values, \"repetition_count\": repetition_count}\n",
    "    )\n",
    "\n",
    "experiment_results = qctrl.functions.calculate_qchack_measurements(\n",
    "    controls=controls,\n",
    "    shot_count=shot_count,\n",
    ")\n",
    "\n",
    "for repetition_count, measurement_counts in zip(\n",
    "    repetitions, experiment_results.measurements\n",
    "):\n",
    "    p0 = measurement_counts.count(0) / shot_count\n",
    "    p1 = measurement_counts.count(1) / shot_count\n",
    "    p2 = measurement_counts.count(2) / shot_count\n",
    "    print(\n",
    "        f\"With {repetition_count:2d} repetitions: P(|0>) = {p0:.2f}, P(|1>) = {p1:.2f}, P(|2>) = {p2:.2f}\"\n",
    "    )"
   ]
  },
  {
   "cell_type": "code",
   "execution_count": null,
   "id": "fuzzy-approval",
   "metadata": {},
   "outputs": [],
   "source": []
  }
 ],
 "metadata": {
  "kernelspec": {
   "display_name": "Python 3",
   "language": "python",
   "name": "python3"
  },
  "language_info": {
   "codemirror_mode": {
    "name": "ipython",
    "version": 3
   },
   "file_extension": ".py",
   "mimetype": "text/x-python",
   "name": "python",
   "nbconvert_exporter": "python",
   "pygments_lexer": "ipython3",
   "version": "3.7.6"
  }
 },
 "nbformat": 4,
 "nbformat_minor": 5
}
